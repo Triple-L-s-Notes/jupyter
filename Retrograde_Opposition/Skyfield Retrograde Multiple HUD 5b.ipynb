{
 "cells": [
  {
   "cell_type": "markdown",
   "metadata": {},
   "source": [
    "Animation showing line-of-sight from Earth to other planets, illustrating the cause of retrograde motion.\n",
    "\n",
    "I wrote this script in Carnets app on my iPad ( https://apps.apple.com/us/app/carnets/id1450994949 ). There's a quirk in the compiler (or interpreter) that causes the code to fail with an error message `AttributeError: 'NoneType' object has no attribute 'remove_callback'`. I just ignore it and it runs the second time.\n",
    "\n",
    "This script uses Skyfield api ( https://rhodesmill.org/skyfield/planets.html ).\n",
    "\n",
    "Although I probably can't help you debug your program I would love to hear if you use this animation (or derivative) in your lessons.\n",
    "\n",
    "Good luck,\n",
    "\n",
    "Stephen Shadle 🌌\n",
    "\n",
    "swshadle@gmail.com"
   ]
  },
  {
   "cell_type": "markdown",
   "metadata": {},
   "source": [
    "# Version Control\n",
    "\n",
    "Skyfield Retrograde Multiple HUD 5b: constructing 3-column array for displaying events. column 0 is frame #, column 1 is date and column 2 is text to be displayed.\n",
    "\n",
    "Skyfield Retrograde Multiple HUD 5a: displaying frame # in text to test whether i can display events in real time rather than all at once before the animation starts. putting frame # in place of time of day for events\n",
    "\n",
    "\n",
    "Skyfield Retrograde Multiple HUD 5: cleaning dates (array t) as well as delta longitude (array mars_eclondel) by combining them into a two-dimentional array (data2d), where the 0th column is delta ecliptic longitude and 1st column is dates\n",
    "\n",
    "Skyfield Retrograde Multiple HUD 4: display start and end retrograde for mars using indexes found in mars_motion_chg\n",
    "\n",
    "Skyfield Retrograde Multiple HUD 1-3: move plot to the left using plt.subplots_adjust(left=-0.25, right=1), added text labels for mars starting and ending retrograde, and cleaned data using reject_outliers\n",
    "\n",
    "Skyfield Retrograde Multiple HUD: Original ready-for-publication version showing retrograde of inner planets in red"
   ]
  },
  {
   "cell_type": "code",
   "execution_count": 341,
   "metadata": {
    "scrolled": false
   },
   "outputs": [
    {
     "data": {
      "application/javascript": [
       "/* Put everything inside the global mpl namespace */\n",
       "window.mpl = {};\n",
       "\n",
       "\n",
       "mpl.get_websocket_type = function() {\n",
       "    if (typeof(WebSocket) !== 'undefined') {\n",
       "        return WebSocket;\n",
       "    } else if (typeof(MozWebSocket) !== 'undefined') {\n",
       "        return MozWebSocket;\n",
       "    } else {\n",
       "        alert('Your browser does not have WebSocket support. ' +\n",
       "              'Please try Chrome, Safari or Firefox ≥ 6. ' +\n",
       "              'Firefox 4 and 5 are also supported but you ' +\n",
       "              'have to enable WebSockets in about:config.');\n",
       "    };\n",
       "}\n",
       "\n",
       "mpl.figure = function(figure_id, websocket, ondownload, parent_element) {\n",
       "    this.id = figure_id;\n",
       "\n",
       "    this.ws = websocket;\n",
       "\n",
       "    this.supports_binary = (this.ws.binaryType != undefined);\n",
       "\n",
       "    if (!this.supports_binary) {\n",
       "        var warnings = document.getElementById(\"mpl-warnings\");\n",
       "        if (warnings) {\n",
       "            warnings.style.display = 'block';\n",
       "            warnings.textContent = (\n",
       "                \"This browser does not support binary websocket messages. \" +\n",
       "                    \"Performance may be slow.\");\n",
       "        }\n",
       "    }\n",
       "\n",
       "    this.imageObj = new Image();\n",
       "\n",
       "    this.context = undefined;\n",
       "    this.message = undefined;\n",
       "    this.canvas = undefined;\n",
       "    this.rubberband_canvas = undefined;\n",
       "    this.rubberband_context = undefined;\n",
       "    this.format_dropdown = undefined;\n",
       "\n",
       "    this.image_mode = 'full';\n",
       "\n",
       "    this.root = $('<div/>');\n",
       "    this._root_extra_style(this.root)\n",
       "    this.root.attr('style', 'display: inline-block');\n",
       "\n",
       "    $(parent_element).append(this.root);\n",
       "\n",
       "    this._init_header(this);\n",
       "    this._init_canvas(this);\n",
       "    this._init_toolbar(this);\n",
       "\n",
       "    var fig = this;\n",
       "\n",
       "    this.waiting = false;\n",
       "\n",
       "    this.ws.onopen =  function () {\n",
       "            fig.send_message(\"supports_binary\", {value: fig.supports_binary});\n",
       "            fig.send_message(\"send_image_mode\", {});\n",
       "            if (mpl.ratio != 1) {\n",
       "                fig.send_message(\"set_dpi_ratio\", {'dpi_ratio': mpl.ratio});\n",
       "            }\n",
       "            fig.send_message(\"refresh\", {});\n",
       "        }\n",
       "\n",
       "    this.imageObj.onload = function() {\n",
       "            if (fig.image_mode == 'full') {\n",
       "                // Full images could contain transparency (where diff images\n",
       "                // almost always do), so we need to clear the canvas so that\n",
       "                // there is no ghosting.\n",
       "                fig.context.clearRect(0, 0, fig.canvas.width, fig.canvas.height);\n",
       "            }\n",
       "            fig.context.drawImage(fig.imageObj, 0, 0);\n",
       "        };\n",
       "\n",
       "    this.imageObj.onunload = function() {\n",
       "        fig.ws.close();\n",
       "    }\n",
       "\n",
       "    this.ws.onmessage = this._make_on_message_function(this);\n",
       "\n",
       "    this.ondownload = ondownload;\n",
       "}\n",
       "\n",
       "mpl.figure.prototype._init_header = function() {\n",
       "    var titlebar = $(\n",
       "        '<div class=\"ui-dialog-titlebar ui-widget-header ui-corner-all ' +\n",
       "        'ui-helper-clearfix\"/>');\n",
       "    var titletext = $(\n",
       "        '<div class=\"ui-dialog-title\" style=\"width: 100%; ' +\n",
       "        'text-align: center; padding: 3px;\"/>');\n",
       "    titlebar.append(titletext)\n",
       "    this.root.append(titlebar);\n",
       "    this.header = titletext[0];\n",
       "}\n",
       "\n",
       "\n",
       "\n",
       "mpl.figure.prototype._canvas_extra_style = function(canvas_div) {\n",
       "\n",
       "}\n",
       "\n",
       "\n",
       "mpl.figure.prototype._root_extra_style = function(canvas_div) {\n",
       "\n",
       "}\n",
       "\n",
       "mpl.figure.prototype._init_canvas = function() {\n",
       "    var fig = this;\n",
       "\n",
       "    var canvas_div = $('<div/>');\n",
       "\n",
       "    canvas_div.attr('style', 'position: relative; clear: both; outline: 0');\n",
       "\n",
       "    function canvas_keyboard_event(event) {\n",
       "        return fig.key_event(event, event['data']);\n",
       "    }\n",
       "\n",
       "    canvas_div.keydown('key_press', canvas_keyboard_event);\n",
       "    canvas_div.keyup('key_release', canvas_keyboard_event);\n",
       "    this.canvas_div = canvas_div\n",
       "    this._canvas_extra_style(canvas_div)\n",
       "    this.root.append(canvas_div);\n",
       "\n",
       "    var canvas = $('<canvas/>');\n",
       "    canvas.addClass('mpl-canvas');\n",
       "    canvas.attr('style', \"left: 0; top: 0; z-index: 0; outline: 0\")\n",
       "\n",
       "    this.canvas = canvas[0];\n",
       "    this.context = canvas[0].getContext(\"2d\");\n",
       "\n",
       "    var backingStore = this.context.backingStorePixelRatio ||\n",
       "\tthis.context.webkitBackingStorePixelRatio ||\n",
       "\tthis.context.mozBackingStorePixelRatio ||\n",
       "\tthis.context.msBackingStorePixelRatio ||\n",
       "\tthis.context.oBackingStorePixelRatio ||\n",
       "\tthis.context.backingStorePixelRatio || 1;\n",
       "\n",
       "    mpl.ratio = (window.devicePixelRatio || 1) / backingStore;\n",
       "\n",
       "    var rubberband = $('<canvas/>');\n",
       "    rubberband.attr('style', \"position: absolute; left: 0; top: 0; z-index: 1;\")\n",
       "\n",
       "    var pass_mouse_events = true;\n",
       "\n",
       "    canvas_div.resizable({\n",
       "        start: function(event, ui) {\n",
       "            pass_mouse_events = false;\n",
       "        },\n",
       "        resize: function(event, ui) {\n",
       "            fig.request_resize(ui.size.width, ui.size.height);\n",
       "        },\n",
       "        stop: function(event, ui) {\n",
       "            pass_mouse_events = true;\n",
       "            fig.request_resize(ui.size.width, ui.size.height);\n",
       "        },\n",
       "    });\n",
       "\n",
       "    function mouse_event_fn(event) {\n",
       "        if (pass_mouse_events)\n",
       "            return fig.mouse_event(event, event['data']);\n",
       "    }\n",
       "\n",
       "    rubberband.mousedown('button_press', mouse_event_fn);\n",
       "    rubberband.mouseup('button_release', mouse_event_fn);\n",
       "    // Throttle sequential mouse events to 1 every 20ms.\n",
       "    rubberband.mousemove('motion_notify', mouse_event_fn);\n",
       "\n",
       "    rubberband.mouseenter('figure_enter', mouse_event_fn);\n",
       "    rubberband.mouseleave('figure_leave', mouse_event_fn);\n",
       "\n",
       "    canvas_div.on(\"wheel\", function (event) {\n",
       "        event = event.originalEvent;\n",
       "        event['data'] = 'scroll'\n",
       "        if (event.deltaY < 0) {\n",
       "            event.step = 1;\n",
       "        } else {\n",
       "            event.step = -1;\n",
       "        }\n",
       "        mouse_event_fn(event);\n",
       "    });\n",
       "\n",
       "    canvas_div.append(canvas);\n",
       "    canvas_div.append(rubberband);\n",
       "\n",
       "    this.rubberband = rubberband;\n",
       "    this.rubberband_canvas = rubberband[0];\n",
       "    this.rubberband_context = rubberband[0].getContext(\"2d\");\n",
       "    this.rubberband_context.strokeStyle = \"#000000\";\n",
       "\n",
       "    this._resize_canvas = function(width, height) {\n",
       "        // Keep the size of the canvas, canvas container, and rubber band\n",
       "        // canvas in synch.\n",
       "        canvas_div.css('width', width)\n",
       "        canvas_div.css('height', height)\n",
       "\n",
       "        canvas.attr('width', width * mpl.ratio);\n",
       "        canvas.attr('height', height * mpl.ratio);\n",
       "        canvas.attr('style', 'width: ' + width + 'px; height: ' + height + 'px;');\n",
       "\n",
       "        rubberband.attr('width', width);\n",
       "        rubberband.attr('height', height);\n",
       "    }\n",
       "\n",
       "    // Set the figure to an initial 600x600px, this will subsequently be updated\n",
       "    // upon first draw.\n",
       "    this._resize_canvas(600, 600);\n",
       "\n",
       "    // Disable right mouse context menu.\n",
       "    $(this.rubberband_canvas).bind(\"contextmenu\",function(e){\n",
       "        return false;\n",
       "    });\n",
       "\n",
       "    function set_focus () {\n",
       "        canvas.focus();\n",
       "        canvas_div.focus();\n",
       "    }\n",
       "\n",
       "    window.setTimeout(set_focus, 100);\n",
       "}\n",
       "\n",
       "mpl.figure.prototype._init_toolbar = function() {\n",
       "    var fig = this;\n",
       "\n",
       "    var nav_element = $('<div/>');\n",
       "    nav_element.attr('style', 'width: 100%');\n",
       "    this.root.append(nav_element);\n",
       "\n",
       "    // Define a callback function for later on.\n",
       "    function toolbar_event(event) {\n",
       "        return fig.toolbar_button_onclick(event['data']);\n",
       "    }\n",
       "    function toolbar_mouse_event(event) {\n",
       "        return fig.toolbar_button_onmouseover(event['data']);\n",
       "    }\n",
       "\n",
       "    for(var toolbar_ind in mpl.toolbar_items) {\n",
       "        var name = mpl.toolbar_items[toolbar_ind][0];\n",
       "        var tooltip = mpl.toolbar_items[toolbar_ind][1];\n",
       "        var image = mpl.toolbar_items[toolbar_ind][2];\n",
       "        var method_name = mpl.toolbar_items[toolbar_ind][3];\n",
       "\n",
       "        if (!name) {\n",
       "            // put a spacer in here.\n",
       "            continue;\n",
       "        }\n",
       "        var button = $('<button/>');\n",
       "        button.addClass('ui-button ui-widget ui-state-default ui-corner-all ' +\n",
       "                        'ui-button-icon-only');\n",
       "        button.attr('role', 'button');\n",
       "        button.attr('aria-disabled', 'false');\n",
       "        button.click(method_name, toolbar_event);\n",
       "        button.mouseover(tooltip, toolbar_mouse_event);\n",
       "\n",
       "        var icon_img = $('<span/>');\n",
       "        icon_img.addClass('ui-button-icon-primary ui-icon');\n",
       "        icon_img.addClass(image);\n",
       "        icon_img.addClass('ui-corner-all');\n",
       "\n",
       "        var tooltip_span = $('<span/>');\n",
       "        tooltip_span.addClass('ui-button-text');\n",
       "        tooltip_span.html(tooltip);\n",
       "\n",
       "        button.append(icon_img);\n",
       "        button.append(tooltip_span);\n",
       "\n",
       "        nav_element.append(button);\n",
       "    }\n",
       "\n",
       "    var fmt_picker_span = $('<span/>');\n",
       "\n",
       "    var fmt_picker = $('<select/>');\n",
       "    fmt_picker.addClass('mpl-toolbar-option ui-widget ui-widget-content');\n",
       "    fmt_picker_span.append(fmt_picker);\n",
       "    nav_element.append(fmt_picker_span);\n",
       "    this.format_dropdown = fmt_picker[0];\n",
       "\n",
       "    for (var ind in mpl.extensions) {\n",
       "        var fmt = mpl.extensions[ind];\n",
       "        var option = $(\n",
       "            '<option/>', {selected: fmt === mpl.default_extension}).html(fmt);\n",
       "        fmt_picker.append(option);\n",
       "    }\n",
       "\n",
       "    // Add hover states to the ui-buttons\n",
       "    $( \".ui-button\" ).hover(\n",
       "        function() { $(this).addClass(\"ui-state-hover\");},\n",
       "        function() { $(this).removeClass(\"ui-state-hover\");}\n",
       "    );\n",
       "\n",
       "    var status_bar = $('<span class=\"mpl-message\"/>');\n",
       "    nav_element.append(status_bar);\n",
       "    this.message = status_bar[0];\n",
       "}\n",
       "\n",
       "mpl.figure.prototype.request_resize = function(x_pixels, y_pixels) {\n",
       "    // Request matplotlib to resize the figure. Matplotlib will then trigger a resize in the client,\n",
       "    // which will in turn request a refresh of the image.\n",
       "    this.send_message('resize', {'width': x_pixels, 'height': y_pixels});\n",
       "}\n",
       "\n",
       "mpl.figure.prototype.send_message = function(type, properties) {\n",
       "    properties['type'] = type;\n",
       "    properties['figure_id'] = this.id;\n",
       "    this.ws.send(JSON.stringify(properties));\n",
       "}\n",
       "\n",
       "mpl.figure.prototype.send_draw_message = function() {\n",
       "    if (!this.waiting) {\n",
       "        this.waiting = true;\n",
       "        this.ws.send(JSON.stringify({type: \"draw\", figure_id: this.id}));\n",
       "    }\n",
       "}\n",
       "\n",
       "\n",
       "mpl.figure.prototype.handle_save = function(fig, msg) {\n",
       "    var format_dropdown = fig.format_dropdown;\n",
       "    var format = format_dropdown.options[format_dropdown.selectedIndex].value;\n",
       "    fig.ondownload(fig, format);\n",
       "}\n",
       "\n",
       "\n",
       "mpl.figure.prototype.handle_resize = function(fig, msg) {\n",
       "    var size = msg['size'];\n",
       "    if (size[0] != fig.canvas.width || size[1] != fig.canvas.height) {\n",
       "        fig._resize_canvas(size[0], size[1]);\n",
       "        fig.send_message(\"refresh\", {});\n",
       "    };\n",
       "}\n",
       "\n",
       "mpl.figure.prototype.handle_rubberband = function(fig, msg) {\n",
       "    var x0 = msg['x0'] / mpl.ratio;\n",
       "    var y0 = (fig.canvas.height - msg['y0']) / mpl.ratio;\n",
       "    var x1 = msg['x1'] / mpl.ratio;\n",
       "    var y1 = (fig.canvas.height - msg['y1']) / mpl.ratio;\n",
       "    x0 = Math.floor(x0) + 0.5;\n",
       "    y0 = Math.floor(y0) + 0.5;\n",
       "    x1 = Math.floor(x1) + 0.5;\n",
       "    y1 = Math.floor(y1) + 0.5;\n",
       "    var min_x = Math.min(x0, x1);\n",
       "    var min_y = Math.min(y0, y1);\n",
       "    var width = Math.abs(x1 - x0);\n",
       "    var height = Math.abs(y1 - y0);\n",
       "\n",
       "    fig.rubberband_context.clearRect(\n",
       "        0, 0, fig.canvas.width / mpl.ratio, fig.canvas.height / mpl.ratio);\n",
       "\n",
       "    fig.rubberband_context.strokeRect(min_x, min_y, width, height);\n",
       "}\n",
       "\n",
       "mpl.figure.prototype.handle_figure_label = function(fig, msg) {\n",
       "    // Updates the figure title.\n",
       "    fig.header.textContent = msg['label'];\n",
       "}\n",
       "\n",
       "mpl.figure.prototype.handle_cursor = function(fig, msg) {\n",
       "    var cursor = msg['cursor'];\n",
       "    switch(cursor)\n",
       "    {\n",
       "    case 0:\n",
       "        cursor = 'pointer';\n",
       "        break;\n",
       "    case 1:\n",
       "        cursor = 'default';\n",
       "        break;\n",
       "    case 2:\n",
       "        cursor = 'crosshair';\n",
       "        break;\n",
       "    case 3:\n",
       "        cursor = 'move';\n",
       "        break;\n",
       "    }\n",
       "    fig.rubberband_canvas.style.cursor = cursor;\n",
       "}\n",
       "\n",
       "mpl.figure.prototype.handle_message = function(fig, msg) {\n",
       "    fig.message.textContent = msg['message'];\n",
       "}\n",
       "\n",
       "mpl.figure.prototype.handle_draw = function(fig, msg) {\n",
       "    // Request the server to send over a new figure.\n",
       "    fig.send_draw_message();\n",
       "}\n",
       "\n",
       "mpl.figure.prototype.handle_image_mode = function(fig, msg) {\n",
       "    fig.image_mode = msg['mode'];\n",
       "}\n",
       "\n",
       "mpl.figure.prototype.updated_canvas_event = function() {\n",
       "    // Called whenever the canvas gets updated.\n",
       "    this.send_message(\"ack\", {});\n",
       "}\n",
       "\n",
       "// A function to construct a web socket function for onmessage handling.\n",
       "// Called in the figure constructor.\n",
       "mpl.figure.prototype._make_on_message_function = function(fig) {\n",
       "    return function socket_on_message(evt) {\n",
       "        if (evt.data instanceof Blob) {\n",
       "            /* FIXME: We get \"Resource interpreted as Image but\n",
       "             * transferred with MIME type text/plain:\" errors on\n",
       "             * Chrome.  But how to set the MIME type?  It doesn't seem\n",
       "             * to be part of the websocket stream */\n",
       "            evt.data.type = \"image/png\";\n",
       "\n",
       "            /* Free the memory for the previous frames */\n",
       "            if (fig.imageObj.src) {\n",
       "                (window.URL || window.webkitURL).revokeObjectURL(\n",
       "                    fig.imageObj.src);\n",
       "            }\n",
       "\n",
       "            fig.imageObj.src = (window.URL || window.webkitURL).createObjectURL(\n",
       "                evt.data);\n",
       "            fig.updated_canvas_event();\n",
       "            fig.waiting = false;\n",
       "            return;\n",
       "        }\n",
       "        else if (typeof evt.data === 'string' && evt.data.slice(0, 21) == \"data:image/png;base64\") {\n",
       "            fig.imageObj.src = evt.data;\n",
       "            fig.updated_canvas_event();\n",
       "            fig.waiting = false;\n",
       "            return;\n",
       "        }\n",
       "\n",
       "        var msg = JSON.parse(evt.data);\n",
       "        var msg_type = msg['type'];\n",
       "\n",
       "        // Call the  \"handle_{type}\" callback, which takes\n",
       "        // the figure and JSON message as its only arguments.\n",
       "        try {\n",
       "            var callback = fig[\"handle_\" + msg_type];\n",
       "        } catch (e) {\n",
       "            console.log(\"No handler for the '\" + msg_type + \"' message type: \", msg);\n",
       "            return;\n",
       "        }\n",
       "\n",
       "        if (callback) {\n",
       "            try {\n",
       "                // console.log(\"Handling '\" + msg_type + \"' message: \", msg);\n",
       "                callback(fig, msg);\n",
       "            } catch (e) {\n",
       "                console.log(\"Exception inside the 'handler_\" + msg_type + \"' callback:\", e, e.stack, msg);\n",
       "            }\n",
       "        }\n",
       "    };\n",
       "}\n",
       "\n",
       "// from http://stackoverflow.com/questions/1114465/getting-mouse-location-in-canvas\n",
       "mpl.findpos = function(e) {\n",
       "    //this section is from http://www.quirksmode.org/js/events_properties.html\n",
       "    var targ;\n",
       "    if (!e)\n",
       "        e = window.event;\n",
       "    if (e.target)\n",
       "        targ = e.target;\n",
       "    else if (e.srcElement)\n",
       "        targ = e.srcElement;\n",
       "    if (targ.nodeType == 3) // defeat Safari bug\n",
       "        targ = targ.parentNode;\n",
       "\n",
       "    // jQuery normalizes the pageX and pageY\n",
       "    // pageX,Y are the mouse positions relative to the document\n",
       "    // offset() returns the position of the element relative to the document\n",
       "    var x = e.pageX - $(targ).offset().left;\n",
       "    var y = e.pageY - $(targ).offset().top;\n",
       "\n",
       "    return {\"x\": x, \"y\": y};\n",
       "};\n",
       "\n",
       "/*\n",
       " * return a copy of an object with only non-object keys\n",
       " * we need this to avoid circular references\n",
       " * http://stackoverflow.com/a/24161582/3208463\n",
       " */\n",
       "function simpleKeys (original) {\n",
       "  return Object.keys(original).reduce(function (obj, key) {\n",
       "    if (typeof original[key] !== 'object')\n",
       "        obj[key] = original[key]\n",
       "    return obj;\n",
       "  }, {});\n",
       "}\n",
       "\n",
       "mpl.figure.prototype.mouse_event = function(event, name) {\n",
       "    var canvas_pos = mpl.findpos(event)\n",
       "\n",
       "    if (name === 'button_press')\n",
       "    {\n",
       "        this.canvas.focus();\n",
       "        this.canvas_div.focus();\n",
       "    }\n",
       "\n",
       "    var x = canvas_pos.x * mpl.ratio;\n",
       "    var y = canvas_pos.y * mpl.ratio;\n",
       "\n",
       "    this.send_message(name, {x: x, y: y, button: event.button,\n",
       "                             step: event.step,\n",
       "                             guiEvent: simpleKeys(event)});\n",
       "\n",
       "    /* This prevents the web browser from automatically changing to\n",
       "     * the text insertion cursor when the button is pressed.  We want\n",
       "     * to control all of the cursor setting manually through the\n",
       "     * 'cursor' event from matplotlib */\n",
       "    event.preventDefault();\n",
       "    return false;\n",
       "}\n",
       "\n",
       "mpl.figure.prototype._key_event_extra = function(event, name) {\n",
       "    // Handle any extra behaviour associated with a key event\n",
       "}\n",
       "\n",
       "mpl.figure.prototype.key_event = function(event, name) {\n",
       "\n",
       "    // Prevent repeat events\n",
       "    if (name == 'key_press')\n",
       "    {\n",
       "        if (event.which === this._key)\n",
       "            return;\n",
       "        else\n",
       "            this._key = event.which;\n",
       "    }\n",
       "    if (name == 'key_release')\n",
       "        this._key = null;\n",
       "\n",
       "    var value = '';\n",
       "    if (event.ctrlKey && event.which != 17)\n",
       "        value += \"ctrl+\";\n",
       "    if (event.altKey && event.which != 18)\n",
       "        value += \"alt+\";\n",
       "    if (event.shiftKey && event.which != 16)\n",
       "        value += \"shift+\";\n",
       "\n",
       "    value += 'k';\n",
       "    value += event.which.toString();\n",
       "\n",
       "    this._key_event_extra(event, name);\n",
       "\n",
       "    this.send_message(name, {key: value,\n",
       "                             guiEvent: simpleKeys(event)});\n",
       "    return false;\n",
       "}\n",
       "\n",
       "mpl.figure.prototype.toolbar_button_onclick = function(name) {\n",
       "    if (name == 'download') {\n",
       "        this.handle_save(this, null);\n",
       "    } else {\n",
       "        this.send_message(\"toolbar_button\", {name: name});\n",
       "    }\n",
       "};\n",
       "\n",
       "mpl.figure.prototype.toolbar_button_onmouseover = function(tooltip) {\n",
       "    this.message.textContent = tooltip;\n",
       "};\n",
       "mpl.toolbar_items = [[\"Home\", \"Reset original view\", \"fa fa-home icon-home\", \"home\"], [\"Back\", \"Back to previous view\", \"fa fa-arrow-left icon-arrow-left\", \"back\"], [\"Forward\", \"Forward to next view\", \"fa fa-arrow-right icon-arrow-right\", \"forward\"], [\"\", \"\", \"\", \"\"], [\"Pan\", \"Pan axes with left mouse, zoom with right\", \"fa fa-arrows icon-move\", \"pan\"], [\"Zoom\", \"Zoom to rectangle\", \"fa fa-square-o icon-check-empty\", \"zoom\"], [\"\", \"\", \"\", \"\"], [\"Download\", \"Download plot\", \"fa fa-floppy-o icon-save\", \"download\"]];\n",
       "\n",
       "mpl.extensions = [\"eps\", \"jpeg\", \"pdf\", \"png\", \"ps\", \"raw\", \"svg\", \"tif\"];\n",
       "\n",
       "mpl.default_extension = \"png\";var comm_websocket_adapter = function(comm) {\n",
       "    // Create a \"websocket\"-like object which calls the given IPython comm\n",
       "    // object with the appropriate methods. Currently this is a non binary\n",
       "    // socket, so there is still some room for performance tuning.\n",
       "    var ws = {};\n",
       "\n",
       "    ws.close = function() {\n",
       "        comm.close()\n",
       "    };\n",
       "    ws.send = function(m) {\n",
       "        //console.log('sending', m);\n",
       "        comm.send(m);\n",
       "    };\n",
       "    // Register the callback with on_msg.\n",
       "    comm.on_msg(function(msg) {\n",
       "        //console.log('receiving', msg['content']['data'], msg);\n",
       "        // Pass the mpl event to the overridden (by mpl) onmessage function.\n",
       "        ws.onmessage(msg['content']['data'])\n",
       "    });\n",
       "    return ws;\n",
       "}\n",
       "\n",
       "mpl.mpl_figure_comm = function(comm, msg) {\n",
       "    // This is the function which gets called when the mpl process\n",
       "    // starts-up an IPython Comm through the \"matplotlib\" channel.\n",
       "\n",
       "    var id = msg.content.data.id;\n",
       "    // Get hold of the div created by the display call when the Comm\n",
       "    // socket was opened in Python.\n",
       "    var element = $(\"#\" + id);\n",
       "    var ws_proxy = comm_websocket_adapter(comm)\n",
       "\n",
       "    function ondownload(figure, format) {\n",
       "        window.open(figure.imageObj.src);\n",
       "    }\n",
       "\n",
       "    var fig = new mpl.figure(id, ws_proxy,\n",
       "                           ondownload,\n",
       "                           element.get(0));\n",
       "\n",
       "    // Call onopen now - mpl needs it, as it is assuming we've passed it a real\n",
       "    // web socket which is closed, not our websocket->open comm proxy.\n",
       "    ws_proxy.onopen();\n",
       "\n",
       "    fig.parent_element = element.get(0);\n",
       "    fig.cell_info = mpl.find_output_cell(\"<div id='\" + id + \"'></div>\");\n",
       "    if (!fig.cell_info) {\n",
       "        console.error(\"Failed to find cell for figure\", id, fig);\n",
       "        return;\n",
       "    }\n",
       "\n",
       "    var output_index = fig.cell_info[2]\n",
       "    var cell = fig.cell_info[0];\n",
       "\n",
       "};\n",
       "\n",
       "mpl.figure.prototype.handle_close = function(fig, msg) {\n",
       "    var width = fig.canvas.width/mpl.ratio\n",
       "    fig.root.unbind('remove')\n",
       "\n",
       "    // Update the output cell to use the data from the current canvas.\n",
       "    fig.push_to_output();\n",
       "    var dataURL = fig.canvas.toDataURL();\n",
       "    // Re-enable the keyboard manager in IPython - without this line, in FF,\n",
       "    // the notebook keyboard shortcuts fail.\n",
       "    IPython.keyboard_manager.enable()\n",
       "    $(fig.parent_element).html('<img src=\"' + dataURL + '\" width=\"' + width + '\">');\n",
       "    fig.close_ws(fig, msg);\n",
       "}\n",
       "\n",
       "mpl.figure.prototype.close_ws = function(fig, msg){\n",
       "    fig.send_message('closing', msg);\n",
       "    // fig.ws.close()\n",
       "}\n",
       "\n",
       "mpl.figure.prototype.push_to_output = function(remove_interactive) {\n",
       "    // Turn the data on the canvas into data in the output cell.\n",
       "    var width = this.canvas.width/mpl.ratio\n",
       "    var dataURL = this.canvas.toDataURL();\n",
       "    this.cell_info[1]['text/html'] = '<img src=\"' + dataURL + '\" width=\"' + width + '\">';\n",
       "}\n",
       "\n",
       "mpl.figure.prototype.updated_canvas_event = function() {\n",
       "    // Tell IPython that the notebook contents must change.\n",
       "    IPython.notebook.set_dirty(true);\n",
       "    this.send_message(\"ack\", {});\n",
       "    var fig = this;\n",
       "    // Wait a second, then push the new image to the DOM so\n",
       "    // that it is saved nicely (might be nice to debounce this).\n",
       "    setTimeout(function () { fig.push_to_output() }, 1000);\n",
       "}\n",
       "\n",
       "mpl.figure.prototype._init_toolbar = function() {\n",
       "    var fig = this;\n",
       "\n",
       "    var nav_element = $('<div/>');\n",
       "    nav_element.attr('style', 'width: 100%');\n",
       "    this.root.append(nav_element);\n",
       "\n",
       "    // Define a callback function for later on.\n",
       "    function toolbar_event(event) {\n",
       "        return fig.toolbar_button_onclick(event['data']);\n",
       "    }\n",
       "    function toolbar_mouse_event(event) {\n",
       "        return fig.toolbar_button_onmouseover(event['data']);\n",
       "    }\n",
       "\n",
       "    for(var toolbar_ind in mpl.toolbar_items){\n",
       "        var name = mpl.toolbar_items[toolbar_ind][0];\n",
       "        var tooltip = mpl.toolbar_items[toolbar_ind][1];\n",
       "        var image = mpl.toolbar_items[toolbar_ind][2];\n",
       "        var method_name = mpl.toolbar_items[toolbar_ind][3];\n",
       "\n",
       "        if (!name) { continue; };\n",
       "\n",
       "        var button = $('<button class=\"btn btn-default\" href=\"#\" title=\"' + name + '\"><i class=\"fa ' + image + ' fa-lg\"></i></button>');\n",
       "        button.click(method_name, toolbar_event);\n",
       "        button.mouseover(tooltip, toolbar_mouse_event);\n",
       "        nav_element.append(button);\n",
       "    }\n",
       "\n",
       "    // Add the status bar.\n",
       "    var status_bar = $('<span class=\"mpl-message\" style=\"text-align:right; float: right;\"/>');\n",
       "    nav_element.append(status_bar);\n",
       "    this.message = status_bar[0];\n",
       "\n",
       "    // Add the close button to the window.\n",
       "    var buttongrp = $('<div class=\"btn-group inline pull-right\"></div>');\n",
       "    var button = $('<button class=\"btn btn-mini btn-primary\" href=\"#\" title=\"Stop Interaction\"><i class=\"fa fa-power-off icon-remove icon-large\"></i></button>');\n",
       "    button.click(function (evt) { fig.handle_close(fig, {}); } );\n",
       "    button.mouseover('Stop Interaction', toolbar_mouse_event);\n",
       "    buttongrp.append(button);\n",
       "    var titlebar = this.root.find($('.ui-dialog-titlebar'));\n",
       "    titlebar.prepend(buttongrp);\n",
       "}\n",
       "\n",
       "mpl.figure.prototype._root_extra_style = function(el){\n",
       "    var fig = this\n",
       "    el.on(\"remove\", function(){\n",
       "\tfig.close_ws(fig, {});\n",
       "    });\n",
       "}\n",
       "\n",
       "mpl.figure.prototype._canvas_extra_style = function(el){\n",
       "    // this is important to make the div 'focusable\n",
       "    el.attr('tabindex', 0)\n",
       "    // reach out to IPython and tell the keyboard manager to turn it's self\n",
       "    // off when our div gets focus\n",
       "\n",
       "    // location in version 3\n",
       "    if (IPython.notebook.keyboard_manager) {\n",
       "        IPython.notebook.keyboard_manager.register_events(el);\n",
       "    }\n",
       "    else {\n",
       "        // location in version 2\n",
       "        IPython.keyboard_manager.register_events(el);\n",
       "    }\n",
       "\n",
       "}\n",
       "\n",
       "mpl.figure.prototype._key_event_extra = function(event, name) {\n",
       "    var manager = IPython.notebook.keyboard_manager;\n",
       "    if (!manager)\n",
       "        manager = IPython.keyboard_manager;\n",
       "\n",
       "    // Check for shift+enter\n",
       "    if (event.shiftKey && event.which == 13) {\n",
       "        this.canvas_div.blur();\n",
       "        // select the cell after this one\n",
       "        var index = IPython.notebook.find_cell_index(this.cell_info[0]);\n",
       "        IPython.notebook.select(index + 1);\n",
       "    }\n",
       "}\n",
       "\n",
       "mpl.figure.prototype.handle_save = function(fig, msg) {\n",
       "    fig.ondownload(fig, null);\n",
       "}\n",
       "\n",
       "\n",
       "mpl.find_output_cell = function(html_output) {\n",
       "    // Return the cell and output element which can be found *uniquely* in the notebook.\n",
       "    // Note - this is a bit hacky, but it is done because the \"notebook_saving.Notebook\"\n",
       "    // IPython event is triggered only after the cells have been serialised, which for\n",
       "    // our purposes (turning an active figure into a static one), is too late.\n",
       "    var cells = IPython.notebook.get_cells();\n",
       "    var ncells = cells.length;\n",
       "    for (var i=0; i<ncells; i++) {\n",
       "        var cell = cells[i];\n",
       "        if (cell.cell_type === 'code'){\n",
       "            for (var j=0; j<cell.output_area.outputs.length; j++) {\n",
       "                var data = cell.output_area.outputs[j];\n",
       "                if (data.data) {\n",
       "                    // IPython >= 3 moved mimebundle to data attribute of output\n",
       "                    data = data.data;\n",
       "                }\n",
       "                if (data['text/html'] == html_output) {\n",
       "                    return [cell, data, j];\n",
       "                }\n",
       "            }\n",
       "        }\n",
       "    }\n",
       "}\n",
       "\n",
       "// Register the function which deals with the matplotlib target/channel.\n",
       "// The kernel may be null if the page has been refreshed.\n",
       "if (IPython.notebook.kernel != null) {\n",
       "    IPython.notebook.kernel.comm_manager.register_target('matplotlib', mpl.mpl_figure_comm);\n",
       "}\n"
      ],
      "text/plain": [
       "<IPython.core.display.Javascript object>"
      ]
     },
     "metadata": {},
     "output_type": "display_data"
    },
    {
     "data": {
      "text/html": [
       "<img src=\"data:image/png;base64,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\" width=\"792\">"
      ],
      "text/plain": [
       "<IPython.core.display.HTML object>"
      ]
     },
     "metadata": {},
     "output_type": "display_data"
    },
    {
     "name": "stdout",
     "output_type": "stream",
     "text": [
      "Mars begins retrograde\n",
      "2020-09-09 frame #1750\n",
      "Mars at opposition\n",
      "2020-10-12 frame #2531\n",
      "Mars ends retrograde\n",
      "2020-11-14 frame #3313\n",
      "Mars begins retrograde\n",
      "2022-10-30 frame #20484\n",
      "Mars at opposition\n",
      "2022-12-06 frame #21376\n",
      "Mars ends retrograde\n",
      "2023-01-12 frame #22268\n",
      "FFMpegWriter is available\n",
      "3 seconds elapsed\n"
     ]
    }
   ],
   "source": [
    "# use \"%pip install\" to load skyfield api once then comment the line out:\n",
    "###### %pip install skyfield\n",
    "from skyfield.api import load\n",
    "import numpy as np\n",
    "import matplotlib.pyplot as plt\n",
    "from mpl_toolkits.mplot3d import Axes3D\n",
    "from matplotlib.ticker import MaxNLocator\n",
    "from matplotlib.animation import FuncAnimation\n",
    "from matplotlib.animation import FFMpegWriter, PillowWriter\n",
    "import matplotlib.animation as animations\n",
    "from datetime import datetime\n",
    "%matplotlib notebook\n",
    "\n",
    "start_time = datetime.now()\n",
    "\n",
    "# constructor class for making planets\n",
    "class planets:\n",
    "    def __init__(self, name, marker=None, color=None, markersize=None, trailmax=None):\n",
    "        self.name       = name\n",
    "        self.marker     = marker if marker is not None else 'o'\n",
    "        self.color      = color if color is not None else 'k'\n",
    "        self.markersize = markersize if markersize is not None else 1\n",
    "\n",
    "# create a list of solar system objects\n",
    "plist = []\n",
    "\n",
    "# append instances to list\n",
    "plist.append(planets(name='Sun',     color='yellow',          markersize=7, marker='*'))\n",
    "plist.append(planets(name='Mercury', color='burlywood',       markersize=2))\n",
    "plist.append(planets(name='Venus',   color='blanchedalmond',  markersize=4))\n",
    "plist.append(planets(name='Earth',   color='mediumturquoise', markersize=4))\n",
    "plist.append(planets(name='Mars',    color='lightcoral',      markersize=3))\n",
    "# plist.append(planets(name='Jupiter', color='burlywood',       markersize=6))\n",
    "# plist.append(planets(name='Saturn',  color='seashell',        markersize=5))\n",
    "# plist.append(planets(name='Uranus',  color='paleturquoise',   markersize=5))\n",
    "# plist.append(planets(name='Neptune', color='royalblue',       markersize=5))\n",
    "# plist.append(planets(name='Pluto',   color='lightsalmon',     markersize=2))\n",
    "\n",
    "# load skyfield ephemeris table from local directory (see https://rhodesmill.org/skyfield/planets.html)\n",
    "eph = load('de421.bsp')\n",
    "sun     = eph[plist[0].name]\n",
    "mercury = eph[plist[1].name]\n",
    "venus   = eph[plist[2].name]\n",
    "earth   = eph[plist[3].name]\n",
    "mars    = eph[plist[4].name]\n",
    "# jupiter = eph['Jupiter barycenter']\n",
    "# saturn  = eph['Saturn barycenter']\n",
    "# urаnus  = eph['Uranus barycenter']\n",
    "# neptune = eph['Neptune barycenter']\n",
    "# pluto   = eph['Pluto barycenter']\n",
    "\n",
    "ts = load.timescale()\n",
    "\n",
    "hours = (3*365+66)*24 # how long the animation should run (number of hours of data from ephemeris table)\n",
    "\n",
    "interval = 8          # number of hours to skip forward for each frame of the animation\n",
    "dpi = 120             # dots per inch for the image\n",
    "hw = 3.0              # height and width of the figure, in AU\n",
    "\n",
    "# ephemeris table de421.bsp is only valid through 2053 Oct 9 (Julian date 2471184.5)\n",
    "numremoved = 0        # zero data points removed due to valid date range (so far!)\n",
    "\n",
    "start_y = start_time.year\n",
    "start_m = start_time.month\n",
    "start_d = start_time.day\n",
    "\n",
    "t = ts.utc(start_y,start_m,start_d,range(hours))\n",
    "while len(t)>1 and t[-1].tt>2471184.5:\n",
    "    t=t[:-1]\n",
    "    numremoved += 1\n",
    "\n",
    "if numremoved:\n",
    "    print(f'removed {numremoved} frames')\n",
    "    hours -= numremoved\n",
    "    t  = ts.utc(start_y,start_m,start_d,range(hours))\n",
    "\n",
    "# give an assertion error if there is no remaining valid data\n",
    "assert t[-1].tt<2471184.5, 'Dates are out of range'\n",
    "assert hours>0, f'too few hours selected: {hours}'\n",
    "\n",
    "sun_p     = eph[plist[0].name].at(t).ecliptic_position().au\n",
    "mercury_p = eph[plist[1].name].at(t).ecliptic_position().au\n",
    "venus_p   = eph[plist[2].name].at(t).ecliptic_position().au\n",
    "earth_p   = eph[plist[3].name].at(t).ecliptic_position().au\n",
    "# moon_p    = moon.at(t).ecliptic_position().au\n",
    "mars_p    = eph[plist[4].name].at(t).ecliptic_position().au\n",
    "# jupiter_p = jupiter.at(t).ecliptic_position().au\n",
    "# saturn_p  = saturn.at(t).ecliptic_position().au\n",
    "# uranus_p  = urаnus.at(t).ecliptic_position().au\n",
    "# neptune_p = neptune.at(t).ecliptic_position().au\n",
    "# pluto_p   = pluto.at(t).ecliptic_position().au\n",
    "\n",
    "ps = [sun_p,\n",
    "      mercury_p,\n",
    "      venus_p,\n",
    "      earth_p,\n",
    "#       moon_p,\n",
    "      mars_p,\n",
    "#       jupiter_p,\n",
    "#       saturn_p,\n",
    "#       uranus_p,\n",
    "#       neptune_p,\n",
    "#       pluto_p,\n",
    "     ]\n",
    "\n",
    "maxsize = [-hw, hw]\n",
    "\n",
    "# with plt.xkcd(): # uncomment (and indent the rest of the script) if you want the figure to be in xkcd style (see https://matplotlib.org/xkcd/examples/showcase/xkcd.html)\n",
    "fig = plt.figure(figsize=(6.6, 5), dpi=dpi)\n",
    "\n",
    "ax  = fig.add_subplot(1, 1, 1,\n",
    "#                        projection ='3d',\n",
    "                      )\n",
    "\n",
    "plt.subplots_adjust(left=-0.25, right=1) # moves the plot to reduce the left margin\n",
    "\n",
    "# some background stars (from https://github.com/zingale/astro_animations/blob/master/solar_system_motion/retrograde/retrograde.py)\n",
    "import random\n",
    "N = 40\n",
    "xpos = []\n",
    "ypos = []\n",
    "starbox = [2.6, 3.0]\n",
    "for s in range(N):\n",
    "    # right\n",
    "    xpos.append(random.uniform( starbox[0], starbox[1]))\n",
    "    ypos.append(random.uniform(-starbox[1], starbox[1]))\n",
    "\n",
    "    # top\n",
    "    xpos.append(random.uniform(-starbox[1], starbox[1]))\n",
    "    ypos.append(random.uniform( starbox[0], starbox[1]))\n",
    "\n",
    "    # left\n",
    "    xpos.append(random.uniform(-starbox[0],-starbox[1]))\n",
    "    ypos.append(random.uniform(-starbox[1], starbox[1]))\n",
    "\n",
    "    # bottom\n",
    "    xpos.append(random.uniform(-starbox[1], starbox[1]))\n",
    "    ypos.append(random.uniform(-starbox[0],-starbox[1]))\n",
    "\n",
    "# draw some random background stars\n",
    "for s in range(N):\n",
    "    plt.scatter([xpos[s]], [ypos[s]], s=20, marker=(5,1), color=\"grey\")\n",
    "plt.show()\n",
    "\n",
    "dots   = []\n",
    "trails = []\n",
    "\n",
    "for i,p in enumerate(ps):\n",
    "    x, y, z = p # z is ignored in 2D plots\n",
    "\n",
    "    newdot, = plt.plot([x[0]],\n",
    "                       [y[0]],\n",
    "#                        [z[0]],\n",
    "                       marker=plist[i].marker,\n",
    "                       ms=plist[i].markersize,\n",
    "                       label=plist[i].name,\n",
    "                       color=plist[i].color,\n",
    "                      linestyle = 'None',\n",
    "                      )\n",
    "    dots.append(newdot)\n",
    "    \n",
    "    newtrail, = plt.plot(x[:1],\n",
    "                         y[:1],\n",
    "#                          z[:1],\n",
    "                         color=plist[i].color,\n",
    "                         linewidth=0.01,\n",
    "#                          marker='.',\n",
    "#                          ms=0.01,\n",
    "#                          linestyle = 'None',\n",
    "                        )\n",
    "\n",
    "    trails.append(newtrail)\n",
    "\n",
    "mercury_x, mercury_y, mercury_z = ps[1]\n",
    "venus_x, venus_y, venus_z       = ps[2]\n",
    "earth_x, earth_y, earth_z       = ps[3]\n",
    "mars_x, mars_y, mars_z          = ps[4]\n",
    "\n",
    "# get slopes for line-of-sight lines from earth through other planets\n",
    "mars_slope     = (earth_y[0] -    mars_y[0])/(earth_x[0] -    mars_x[0])\n",
    "venus_slope    = (earth_y[0] -   venus_y[0])/(earth_x[0] -   venus_x[0])\n",
    "mercury_slope  = (earth_y[0] - mercury_y[0])/(earth_x[0] - mercury_x[0])\n",
    "\n",
    "# endpoint of line-of-sight line should be to the right of the figure if the planet is to the right of earth & vice versa\n",
    "if earth_x[0]>mars_x[0]:\n",
    "    mars_xpt = -3.5\n",
    "else:\n",
    "    mars_xpt = 3.5\n",
    "\n",
    "mars_ypt = earth_y[0] + mars_slope*(mars_xpt - earth_x[0])\n",
    "\n",
    "if earth_x[0]>venus_x[0]:\n",
    "    venus_xpt = -3.5\n",
    "else:\n",
    "    venus_xpt = 3.5\n",
    "\n",
    "venus_ypt = earth_y[0] + venus_slope*(venus_xpt - earth_x[0])\n",
    "\n",
    "if earth_x[0]>mercury_x[0]:\n",
    "    mercury_xpt = -3.5\n",
    "else:\n",
    "    mercury_xpt = 3.5\n",
    "\n",
    "mercury_ypt = earth_y[0] + mercury_slope*(mercury_xpt - earth_x[0])\n",
    "\n",
    "eclat, mars_eclon, ecd = earth.at(t).observe(mars).ecliptic_latlon()\n",
    "mars_eclondel = mars_eclon.radians[1:] - mars_eclon.radians[:-1]\n",
    "\n",
    "mars_data2d = np.stack((mars_eclondel, t[:-1]), axis=1) # make a 2d data structure where column 0 is delta ecliptic longitude and column 1 is dates\n",
    "\n",
    "def reject_outliers(data, m=2.):\n",
    "    d = np.abs(data[:,0] - np.median(data[:,0]))\n",
    "    mdev = np.median(d)\n",
    "    s = d/mdev if mdev else 0.\n",
    "    return data[s<m]\n",
    "\n",
    "filtered_mars_data2d = reject_outliers(mars_data2d,200.)\n",
    "\n",
    "# def reject_outliers(data, m=2.):\n",
    "#     d = np.abs(data - np.median(data))\n",
    "#     mdev = np.median(d)\n",
    "#     s = d/mdev if mdev else 0.\n",
    "#     return data[s<m]\n",
    "\n",
    "# filtered_mars_eclondel = reject_outliers(mars_eclondel,200.)\n",
    "\n",
    "\n",
    "# identify where mars is in prograde (which we will mark with a grey line) and retrograde (orange-red line)\n",
    "# mars_prograde = filtered_mars_eclondel >= 0.0\n",
    "mars_prograde = filtered_mars_data2d[:,0] >= 0.0\n",
    "\n",
    "mars_motion_chg = np.where(mars_prograde[:-1] != mars_prograde[1:])[0]+1\n",
    "\n",
    "# make a structured array (events) to hold a list of notable events (begin/end retrograde & opposition) for mars and other planets\n",
    "dtype = [('Frame', np.int32), ('Date', (np.str_, 10)), ('Text', (np.str_, 25))]\n",
    "events = np.array([], dtype=dtype)\n",
    "\n",
    "opposition = 0\n",
    "for i in mars_motion_chg:\n",
    "    if not mars_prograde[i]:\n",
    "        opposition = i\n",
    "        events = np.concatenate((events, np.array([(i,'{:%Y-%m-%d}'.format(filtered_mars_data2d[i,1].utc_datetime()),\"Mars begins retrograde\")], dtype=dtype)), axis=0)\n",
    "        print('Mars begins retrograde\\n{:%Y-%m-%d} frame #{}'.format(filtered_mars_data2d[i,1].utc_datetime(), i))\n",
    "    else:\n",
    "        if opposition != 0:\n",
    "            opposition = (opposition + i) // 2 # integer floor division\n",
    "            events = np.concatenate((events, np.array([(opposition,'{:%Y-%m-%d}'.format(filtered_mars_data2d[opposition,1].utc_datetime()),\"Mars at opposition\")], dtype=dtype)), axis=0)\n",
    "            print('Mars at opposition\\n{:%Y-%m-%d} frame #{}'.format(filtered_mars_data2d[opposition,1].utc_datetime(), opposition))\n",
    "        events = np.concatenate((events, np.array([(i,'{:%Y-%m-%d}'.format(filtered_mars_data2d[i,1].utc_datetime()),\"Mars ends retrograde\")], dtype=dtype)), axis=0)\n",
    "        print('Mars ends retrograde\\n{:%Y-%m-%d} frame #{}'.format(filtered_mars_data2d[i,1].utc_datetime(), i))\n",
    "        \n",
    "# add events for Jupiter, Saturn, etc. before sorting\n",
    "\n",
    "events = np.sort(events, order='Frame')\n",
    "\n",
    "text_x = 1.02\n",
    "text_y = 0.65\n",
    "text_y_delta = 0.07\n",
    "fontsize=8\n",
    "for f in events['Frame']:\n",
    "    if f>22000: # stop after current \"hour\" in animation\n",
    "        break\n",
    "    ax.text(text_x, text_y, '{}\\n{}'.format(events[events['Frame']==f]['Text'][0], events[events['Frame']==f]['Date'][0]), transform=ax.transAxes, fontsize=fontsize)\n",
    "    text_y -= text_y_delta\n",
    "\n",
    "# for i in mars_motion_chg:\n",
    "#     if not mars_prograde[i]:\n",
    "# #         ax.text(text_x, text_y, 'Mars begins retrograde\\n{:%Y-%m-%d %H:%M}'.format(t[i].utc_datetime()), transform=ax.transAxes)\n",
    "#         opposition = i\n",
    "#         ax.text(text_x, text_y, 'Mars begins retrograde\\n{:%Y-%m-%d} frame #{}'.format(filtered_mars_data2d[i,1].utc_datetime(), i), transform=ax.transAxes, fontsize=fontsize)\n",
    "#     else:\n",
    "# #         ax.text(text_x, text_y, 'Mars ends retrograde\\n{:%Y-%m-%d %H:%M}'.format(t[i].utc_datetime()), transform=ax.transAxes)\n",
    "#         if opposition != 0:\n",
    "#             opposition = (opposition + i) // 2 # integer floor division\n",
    "#             ax.text(text_x, text_y, 'Mars at opposition\\n{:%Y-%m-%d} frame #{}'.format(filtered_mars_data2d[opposition,1].utc_datetime(), opposition), transform=ax.transAxes, fontsize=fontsize)\n",
    "#             text_y -= text_y_delta\n",
    "#         ax.text(text_x, text_y, 'Mars ends retrograde\\n{:%Y-%m-%d} frame #{}'.format(filtered_mars_data2d[i,1].utc_datetime(), i), transform=ax.transAxes, fontsize=fontsize)\n",
    "#     text_y -= text_y_delta\n",
    "\n",
    "# for f in events['Frame']:\n",
    "#     if f>30000: # stop after current \"hour\" in animation\n",
    "#         break\n",
    "#     ax.text(text_x, text_y, '{}\\n{}'.format(events[events['Frame']==f]['Text'][0], events[events['Frame']==f]['Date'][0]), transform=ax.transAxes, fontsize=fontsize)\n",
    "#     text_y -= text_y_delta\n",
    "\n",
    "# ax.text(text_x, text_y, 'Mars begins retrograde', transform=ax.transAxes) # label for start of retrograde\n",
    "# ax.text(1.05, 0.60, '', transform=ax.transAxes) # date  for start of retrograde\n",
    "# ax.text(1.05, 0.55, 'Mars ends retrograde', transform=ax.transAxes) # label for end   of retrograde\n",
    "# ax.text(1.05, 0.50, '', transform=ax.transAxes) # date  for end   of retrograde\n",
    "        \n",
    "# store an array of colors (grey or orangered)\n",
    "mars_linecolor = ['grey' if mars_prograde[i] else 'orangered' for i in range(len(mars_prograde))]\n",
    "\n",
    "# create the line that shows line-of-sight through mars at the first (0th) data point. we'll do the rest in the animate function\n",
    "mars_line,  = plt.plot([earth_x[0], mars_xpt], [earth_y[0], mars_ypt], \"--\",\n",
    "                   linewidth=0.5) # line connecting earth and mars\n",
    "mars_line.set_color(mars_linecolor[0])\n",
    "\n",
    "eclat, venus_eclon, ecd = earth.at(t).observe(venus).ecliptic_latlon()\n",
    "venus_eclondel = venus_eclon.radians[1:] - venus_eclon.radians[:-1]\n",
    "venus_prograde = venus_eclondel >= 0.\n",
    "venus_linecolor = ['grey' if venus_prograde[i] else 'orangered' for i in range(len(venus_prograde))]\n",
    "venus_line,  = plt.plot([earth_x[0], venus_xpt], [earth_y[0], venus_ypt], \"--\",\n",
    "                   linewidth=0.5) # line connecting earth and venus\n",
    "venus_line.set_color(venus_linecolor[0])\n",
    "\n",
    "eclat, mercury_eclon, ecd = earth.at(t).observe(mercury).ecliptic_latlon()\n",
    "mercury_eclondel = mercury_eclon.radians[1:] - mercury_eclon.radians[:-1]\n",
    "mercury_prograde = mercury_eclondel >= 0.\n",
    "mercury_linecolor = ['grey' if mercury_prograde[i] else 'orangered' for i in range(len(mercury_prograde))]\n",
    "mercury_line,  = plt.plot([earth_x[0], mercury_xpt], [earth_y[0], mercury_ypt], \"--\",\n",
    "                   linewidth=0.5) # line connecting earth and mercury\n",
    "mercury_line.set_color(mercury_linecolor[0])\n",
    "\n",
    "ax.set_xlim(maxsize)\n",
    "ax.set_ylim(maxsize)\n",
    "# ax.set_zlim(maxsize) # not used in a 2D plot\n",
    "\n",
    "ax.set_ylabel(None, \n",
    "              labelpad = 14,\n",
    "             ) # elevation\n",
    "ax.set_xlabel('distance in AU',\n",
    "#               labelpad = 14,\n",
    "             )\n",
    "# ax.set_zlabel(None)   # not used in a 2D plot\n",
    "\n",
    "# set up animation of axis ticks and labels\n",
    "ax.xaxis.set_major_locator(MaxNLocator(integer=True))\n",
    "ax.yaxis.set_major_locator(MaxNLocator(integer=True))\n",
    "# ax.zaxis.set_major_locator(MaxNLocator(integer=True))\n",
    "\n",
    "ticks =  ax.get_yticks()\n",
    "ticks = ticks[1:] # compensates for an error in some versions of the 3d view system. might not be needed (you might have better results if you comment or uncomment this line)\n",
    "\n",
    "# set labels to integers with absolute values (representing distance from sun in AU)\n",
    "ax.set_xticklabels([int(abs(tick)) for tick in ticks])\n",
    "ax.set_yticklabels([int(abs(tick)) for tick in ticks])\n",
    "# ax.set_zticklabels([int(abs(tick)) for tick in ticks])\n",
    "\n",
    "handles, labels = ax.get_legend_handles_labels()\n",
    "plt.style.use(['dark_background'])\n",
    "plt.rcParams['figure.facecolor'] = 'black'\n",
    "plt.legend(bbox_to_anchor=(1.3, 1.0), # sets the legend outside the figure\n",
    "               handles=handles,       # our updated list of handles\n",
    "               loc='upper right',\n",
    "               ncol=1,\n",
    "               fontsize='medium',\n",
    "               borderaxespad=0.0,\n",
    "               shadow=True,\n",
    "              )\n",
    "\n",
    "ax.set_aspect('equal') # makes circles look like circles\n",
    "\n",
    "if interval == 24:\n",
    "    timeperframe = '1 day'\n",
    "elif interval > 24:\n",
    "    if interval%24==0:\n",
    "        timeperframe = f'{interval//24} days'\n",
    "    else:\n",
    "        timeperframe = '{:^.1f} days'.format(interval/24)\n",
    "elif interval == 1:\n",
    "    timeperframe = '1 hr'\n",
    "else:\n",
    "    timeperframe = f'{interval} hrs'\n",
    "\n",
    "# placement 0, 0 would be bottom-left. 1, 1 would be top-right.\n",
    "text1 = ax.text(0.0, 1.05, '', transform=ax.transAxes) # date/time for each frame\n",
    "text2 = ax.text(0.7, 1.05, f'{timeperframe}/frame', transform=ax.transAxes) # hours or days per frame of animation\n",
    "\n",
    "# mars_text_retro_beg  = ax.text(1.05, 0.65, 'Mars begins retrograde', transform=ax.transAxes) # label for start of retrograde\n",
    "# mars_date_retro_beg  = ax.text(1.05, 0.60, '', transform=ax.transAxes) # date  for start of retrograde\n",
    "# mars_text_retro_end  = ax.text(1.05, 0.55, 'Mars ends retrograde', transform=ax.transAxes) # label for end   of retrograde\n",
    "# mars_date_retro_end  = ax.text(1.05, 0.50, '', transform=ax.transAxes) # date  for end   of retrograde\n",
    "\n",
    "# init function doesn't do anything currently. it's there if any setup is needed before starting the animation\n",
    "def init():\n",
    "    return dots, trails\n",
    "\n",
    "def animate(hour):\n",
    "    pctleft = (hours-hour-hours%interval)/hours\n",
    "    pctzoom = 0.025+1.0*(1-np.sin((np.pi/2)*(pctleft)))\n",
    "    text1.set_text('{:%Y-%m-%d %H:%M} frame #{}'.format(t[hour].utc_datetime(), hour))\n",
    "    ticks =  ax.get_yticks()\n",
    "    \n",
    "#   use decimal axis labels when zoomed in\n",
    "    if pctzoom<0.0245:                  # :^.1f\n",
    "        ax.set_xticklabels([f'{abs(tick):.1f}' for tick in ticks])\n",
    "        ax.set_yticklabels([f'{abs(tick):.1f}' for tick in ticks])\n",
    "#         ax.set_zticklabels([f'{abs(tick):.1f}' for tick in ticks])\n",
    "    else:\n",
    "        ax.set_xticklabels([int(abs(tick)) for tick in ticks])\n",
    "        ax.set_yticklabels([int(abs(tick)) for tick in ticks])\n",
    "#         ax.set_zticklabels([int(abs(tick)) for tick in ticks])\n",
    "\n",
    "# update the postion and trails for each planet\n",
    "    for i,p in enumerate(ps):\n",
    "        x, y, z = p # z is ignored in 2D plots\n",
    "        dots[i].remove()\n",
    "        dots[i], = plt.plot([x[hour]], [y[hour]],\n",
    "#                             [z[hour]],\n",
    "                            marker=plist[i].marker,\n",
    "                            ms=plist[i].markersize,\n",
    "                            color=plist[i].color,\n",
    "                            linestyle = 'None',\n",
    "                        )\n",
    "\n",
    "        trails[i].remove()\n",
    "        trails[i], = plt.plot(x[:hour], y[:hour],\n",
    "#                               z[:hour],\n",
    "                              color=plist[i].color,\n",
    "                              linewidth= 0.8,\n",
    "                              alpha = 1,\n",
    "                        )\n",
    "\n",
    "    # draw a line connecting earth and another planet and extending a bit further out\n",
    "    mars_slope    = (earth_y[hour] -    mars_y[hour])/(earth_x[hour] -    mars_x[hour])\n",
    "    venus_slope   = (earth_y[hour] -   venus_y[hour])/(earth_x[hour] -   venus_x[hour])\n",
    "    mercury_slope = (earth_y[hour] - mercury_y[hour])/(earth_x[hour] - mercury_x[hour])\n",
    "\n",
    "    if earth_x[hour]>mars_x[hour]:\n",
    "        mars_xpt = -3.5\n",
    "    else:\n",
    "        mars_xpt = 3.5\n",
    "\n",
    "    mars_ypt = earth_y[hour] + mars_slope*(mars_xpt - earth_x[hour])\n",
    "\n",
    "    if earth_x[hour]>venus_x[hour]:\n",
    "        venus_xpt = -3.5\n",
    "    else:\n",
    "        venus_xpt = 3.5\n",
    "\n",
    "    venus_ypt = earth_y[hour] + venus_slope*(venus_xpt - earth_x[hour])\n",
    "\n",
    "    if earth_x[hour]>mercury_x[hour]:\n",
    "        mercury_xpt = -3.5\n",
    "    else:\n",
    "        mercury_xpt = 3.5\n",
    "\n",
    "    mercury_ypt = earth_y[hour] + mercury_slope*(mercury_xpt - earth_x[hour])\n",
    "\n",
    "    mars_line.set_data((earth_x[hour], mars_xpt), (earth_y[hour], mars_ypt))\n",
    "    mars_line.set_color(color=mars_linecolor[hour])\n",
    "    \n",
    "#     mars_date_retro_beg.set_text('{:%Y-%m-%d %H:%M}'.format(t[hour].utc_datetime()))\n",
    "#     mars_date_retro_end.set_text('{:%Y-%m-%d %H:%M}'.format(t[hour].utc_datetime()))\n",
    "\n",
    "    venus_line.set_data((earth_x[hour], venus_xpt), (earth_y[hour], venus_ypt))\n",
    "    venus_line.set_color(color=venus_linecolor[hour])\n",
    "\n",
    "    mercury_line.set_data((earth_x[hour], mercury_xpt), (earth_y[hour], mercury_ypt))\n",
    "    mercury_line.set_color(color=mercury_linecolor[hour])\n",
    "\n",
    "#     print(f'frame {hours-hour-hours%interval}/{hours} {pctleft:.0%} left')\n",
    "    return dots, trails\n",
    "\n",
    "# lambda function prints the progress to the console while rendering the animation.\n",
    "progress_callback = lambda i, n: print(f'Saving frame {i+1} of {n}')\n",
    "# plt.show() # normally you need to tell matplotlib and pyplot to show the plot. this isn't needed when using FuncAnimation\n",
    "animation = FuncAnimation(fig, animate, \n",
    "                          frames=range(0,hours,interval), # run the animation for all days represented\n",
    "                          interval=10, blit=False, repeat=False, \n",
    "                          repeat_delay=5,\n",
    "                          init_func=init)\n",
    "\n",
    "filename = f\"retrograde multiple.{dpi} dpi.{hours} pts.{interval} interval\"\n",
    "\n",
    "# please update the 'artist' metadata for your animation file by putting your name as the artist:\n",
    "artist = 'Stephen Shadle'\n",
    "\n",
    "if FFMpegWriter.isAvailable():\n",
    "    print('FFMpegWriter is available')\n",
    "    writer = FFMpegWriter(fps=15, metadata=dict(artist=artist), bitrate=1800)\n",
    "# comment the following line to run animation without saving the file\n",
    "#     animation.save(filename=f'{filename}.mp4', writer=writer, progress_callback=progress_callback)\n",
    "else:\n",
    "    print('FFMpegWriter is not available')\n",
    "    if PillowWriter.isAvailable():\n",
    "        print('PillowWriter is available')\n",
    "        Writer = animations.writers['pillow']\n",
    "        writer = Writer(fps=60, metadata=dict(artist=artist), bitrate=1800,)\n",
    "# comment the following line to run animation without saving the file\n",
    "#         animation.save(filename=f'{filename}.gif', writer=writer, dpi=dpi)\n",
    "    else:\n",
    "        print('PillowWriter is not available')\n",
    "\n",
    "# elapsed time function\n",
    "# PLACE THE FOLLOWING AT THE TOP\n",
    "# from datetime import datetime\n",
    "# from time import sleep\n",
    "# start_time = datetime.now()\n",
    "\n",
    "time_elapsed = datetime.now() - start_time\n",
    "\n",
    "da, remainder  = divmod(time_elapsed.total_seconds(), 24*3600)\n",
    "hrs, remainder = divmod(remainder, 3600)\n",
    "mins, secs = divmod(remainder, 60)\n",
    "\n",
    "if da:\n",
    "    print(f'{int(da)} days {int(hrs)} hours {int(mins)} minutes {int(secs)} seconds elapsed')\n",
    "elif hrs:\n",
    "    print(f'{int(hrs)} hours {int(mins)} minutes {int(secs)} seconds elapsed')\n",
    "elif mins:\n",
    "    print(f'{int(mins)} minutes {int(secs)} seconds elapsed')\n",
    "else:\n",
    "    print(f'{int(secs)} seconds elapsed')"
   ]
  },
  {
   "cell_type": "code",
   "execution_count": null,
   "metadata": {},
   "outputs": [],
   "source": [
    "dtype = [('Name', (np.str_, 10)), ('Marks', np.float64), ('GradeLevel', np.int32)]"
   ]
  },
  {
   "cell_type": "code",
   "execution_count": 207,
   "metadata": {},
   "outputs": [],
   "source": [
    "dtype = [('Frame', np.int32), ('Date', (np.str_, 10)), ('Text', (np.str_, 25))]"
   ]
  },
  {
   "cell_type": "code",
   "execution_count": 208,
   "metadata": {},
   "outputs": [
    {
     "data": {
      "text/plain": [
       "'2020-06-28'"
      ]
     },
     "execution_count": 208,
     "metadata": {},
     "output_type": "execute_result"
    }
   ],
   "source": [
    "'{:%Y-%m-%d}'.format(t[0].utc_datetime())"
   ]
  },
  {
   "cell_type": "code",
   "execution_count": 209,
   "metadata": {},
   "outputs": [],
   "source": [
    "numpy_arr = np.array([(1773,'{:%Y-%m-%d}'.format(t[0].utc_datetime()),\"Jupiter at opposition\"),(3336,'{:%Y-%m-%d}'.format(t[-1].utc_datetime()),\"Mars ends retrograde\")], dtype=dtype)"
   ]
  },
  {
   "cell_type": "code",
   "execution_count": 210,
   "metadata": {},
   "outputs": [
    {
     "data": {
      "text/plain": [
       "array([(1773, '2020-06-28', 'Jupiter at opposition'),\n",
       "       (3336, '2023-09-01', 'Mars ends retrograde')],\n",
       "      dtype=[('Frame', '<i4'), ('Date', '<U10'), ('Text', '<U25')])"
      ]
     },
     "execution_count": 210,
     "metadata": {},
     "output_type": "execute_result"
    }
   ],
   "source": [
    "numpy_arr"
   ]
  },
  {
   "cell_type": "code",
   "execution_count": 211,
   "metadata": {},
   "outputs": [],
   "source": [
    "# numpy_arr = np.array([[1773,2007,\"Mars begins retrograde\"],[10336,2831,\"Mars ends retrograde\"]])"
   ]
  },
  {
   "cell_type": "code",
   "execution_count": 240,
   "metadata": {},
   "outputs": [
    {
     "data": {
      "text/plain": [
       "'Jupiter at opposition'"
      ]
     },
     "execution_count": 240,
     "metadata": {},
     "output_type": "execute_result"
    }
   ],
   "source": [
    "numpy_arr['Text'][0]"
   ]
  },
  {
   "cell_type": "code",
   "execution_count": 213,
   "metadata": {},
   "outputs": [],
   "source": [
    "numpy_arr = np.concatenate((numpy_arr, np.array([(10554,'{:%Y-%m-%d}'.format(t[1000].utc_datetime()),\"Jupiter begins retrograde\")], dtype=dtype)), axis=0)"
   ]
  },
  {
   "cell_type": "code",
   "execution_count": 214,
   "metadata": {},
   "outputs": [],
   "source": [
    "numpy_arr = np.concatenate((numpy_arr, np.array([(2554,'{:%Y-%m-%d}'.format(t[100].utc_datetime()),\"Mars at opposition\")], dtype=dtype)), axis=0)"
   ]
  },
  {
   "cell_type": "code",
   "execution_count": 215,
   "metadata": {},
   "outputs": [
    {
     "data": {
      "text/plain": [
       "array([( 1773, '2020-06-28', 'Jupiter at opposition'),\n",
       "       ( 3336, '2023-09-01', 'Mars ends retrograde'),\n",
       "       (10554, '2020-08-08', 'Jupiter begins retrograde'),\n",
       "       ( 2554, '2020-07-02', 'Mars at opposition')],\n",
       "      dtype=[('Frame', '<i4'), ('Date', '<U10'), ('Text', '<U25')])"
      ]
     },
     "execution_count": 215,
     "metadata": {},
     "output_type": "execute_result"
    }
   ],
   "source": [
    "numpy_arr"
   ]
  },
  {
   "cell_type": "code",
   "execution_count": 216,
   "metadata": {},
   "outputs": [],
   "source": [
    "numpy_arr = np.sort(numpy_arr, order='Frame')"
   ]
  },
  {
   "cell_type": "code",
   "execution_count": 217,
   "metadata": {},
   "outputs": [
    {
     "data": {
      "text/plain": [
       "array([( 1773, '2020-06-28', 'Jupiter at opposition'),\n",
       "       ( 2554, '2020-07-02', 'Mars at opposition'),\n",
       "       ( 3336, '2023-09-01', 'Mars ends retrograde'),\n",
       "       (10554, '2020-08-08', 'Jupiter begins retrograde')],\n",
       "      dtype=[('Frame', '<i4'), ('Date', '<U10'), ('Text', '<U25')])"
      ]
     },
     "execution_count": 217,
     "metadata": {},
     "output_type": "execute_result"
    }
   ],
   "source": [
    "numpy_arr"
   ]
  },
  {
   "cell_type": "code",
   "execution_count": 342,
   "metadata": {},
   "outputs": [
    {
     "data": {
      "text/plain": [
       "array([ 1773,  2554,  3336, 10554], dtype=int32)"
      ]
     },
     "execution_count": 342,
     "metadata": {},
     "output_type": "execute_result"
    }
   ],
   "source": [
    "numpy_arr['Frame']"
   ]
  },
  {
   "cell_type": "code",
   "execution_count": 344,
   "metadata": {},
   "outputs": [
    {
     "name": "stdout",
     "output_type": "stream",
     "text": [
      "Mars begins retrograde \n",
      " 2020-09-09 frame 1750\n",
      "Mars at opposition \n",
      " 2020-10-12 frame 2531\n",
      "Mars ends retrograde \n",
      " 2020-11-14 frame 3313\n",
      "Mars begins retrograde \n",
      " 2022-10-30 frame 20484\n",
      "Mars at opposition \n",
      " 2022-12-06 frame 21376\n"
     ]
    }
   ],
   "source": [
    "for f in events['Frame']:\n",
    "    if f>22000: # stop\n",
    "        break\n",
    "#     print(numpy_arr[numpy_arr['Frame']==f]['Text'][0],\"\\n\",numpy_arr[numpy_arr['Frame']==f]['Date'][0],'frame',f)\n",
    "    str1 = events[events['Frame']==f]['Text'][0]\n",
    "    str2 = events[events['Frame']==f]['Date'][0]\n",
    "    print(str1,\"\\n\",str2,'frame',f)"
   ]
  },
  {
   "cell_type": "code",
   "execution_count": 352,
   "metadata": {},
   "outputs": [
    {
     "data": {
      "text/plain": [
       "array([( 1750, '2020-09-09', 'Mars begins retrograde'),\n",
       "       ( 2531, '2020-10-12', 'Mars at opposition'),\n",
       "       ( 3313, '2020-11-14', 'Mars ends retrograde'),\n",
       "       (20484, '2022-10-30', 'Mars begins retrograde'),\n",
       "       (21376, '2022-12-06', 'Mars at opposition'),\n",
       "       (22268, '2023-01-12', 'Mars ends retrograde')],\n",
       "      dtype=[('Frame', '<i4'), ('Date', '<U10'), ('Text', '<U25')])"
      ]
     },
     "execution_count": 352,
     "metadata": {},
     "output_type": "execute_result"
    }
   ],
   "source": [
    "events"
   ]
  },
  {
   "cell_type": "code",
   "execution_count": 353,
   "metadata": {},
   "outputs": [],
   "source": [
    "next_event = events['Frame'][0]"
   ]
  },
  {
   "cell_type": "code",
   "execution_count": 354,
   "metadata": {},
   "outputs": [
    {
     "data": {
      "text/plain": [
       "1750"
      ]
     },
     "execution_count": 354,
     "metadata": {},
     "output_type": "execute_result"
    }
   ],
   "source": [
    "next_event"
   ]
  },
  {
   "cell_type": "code",
   "execution_count": 411,
   "metadata": {},
   "outputs": [
    {
     "data": {
      "text/plain": [
       "6"
      ]
     },
     "execution_count": 411,
     "metadata": {},
     "output_type": "execute_result"
    }
   ],
   "source": [
    "len(events)"
   ]
  },
  {
   "cell_type": "code",
   "execution_count": 405,
   "metadata": {},
   "outputs": [],
   "source": [
    "event_index = 0"
   ]
  },
  {
   "cell_type": "code",
   "execution_count": 424,
   "metadata": {},
   "outputs": [],
   "source": [
    "# setup first event to watch for in animation loop\n",
    "event_index = 0\n",
    "if event_index < len(events):\n",
    "    next_event = events['Frame'][event_index]\n",
    "else:\n",
    "    next_event = -1 # marks that there are no more events"
   ]
  },
  {
   "cell_type": "code",
   "execution_count": 428,
   "metadata": {},
   "outputs": [
    {
     "name": "stdout",
     "output_type": "stream",
     "text": [
      "Mars begins retrograde 2022-10-30\n"
     ]
    }
   ],
   "source": [
    "# when event is triggered by animation loop, print current info for event and advance to next event\n",
    "print(events['Text'][event_index], events['Date'][event_index])\n",
    "event_index += 1\n",
    "if event_index < len(events):\n",
    "    next_event = events['Frame'][event_index]\n",
    "else:\n",
    "    next_event = -1 # marks that there are no more events"
   ]
  },
  {
   "cell_type": "code",
   "execution_count": 406,
   "metadata": {},
   "outputs": [
    {
     "data": {
      "text/plain": [
       "(1750, '2020-09-09', 'Mars begins retrograde')"
      ]
     },
     "execution_count": 406,
     "metadata": {},
     "output_type": "execute_result"
    }
   ],
   "source": [
    "events[event_index]"
   ]
  },
  {
   "cell_type": "code",
   "execution_count": 407,
   "metadata": {},
   "outputs": [],
   "source": [
    "next_event = events['Frame'][event_index]"
   ]
  },
  {
   "cell_type": "code",
   "execution_count": 413,
   "metadata": {},
   "outputs": [
    {
     "data": {
      "text/plain": [
       "1750"
      ]
     },
     "execution_count": 413,
     "metadata": {},
     "output_type": "execute_result"
    }
   ],
   "source": [
    "next_event"
   ]
  },
  {
   "cell_type": "code",
   "execution_count": 409,
   "metadata": {},
   "outputs": [
    {
     "data": {
      "text/plain": [
       "'2020-09-09'"
      ]
     },
     "execution_count": 409,
     "metadata": {},
     "output_type": "execute_result"
    }
   ],
   "source": [
    "events['Date'][event_index]"
   ]
  },
  {
   "cell_type": "code",
   "execution_count": 423,
   "metadata": {},
   "outputs": [
    {
     "ename": "IndexError",
     "evalue": "index 6 is out of bounds for axis 0 with size 6",
     "output_type": "error",
     "traceback": [
      "\u001b[0;31m---------------------------------------------------------------------------\u001b[0m",
      "\u001b[0;31mIndexError\u001b[0m                                Traceback (most recent call last)",
      "\u001b[0;32m<ipython-input-423-23fe9fa5f81e>\u001b[0m in \u001b[0;36m<module>\u001b[0;34m\u001b[0m\n\u001b[0;32m----> 1\u001b[0;31m \u001b[0mevents\u001b[0m\u001b[0;34m[\u001b[0m\u001b[0;34m'Text'\u001b[0m\u001b[0;34m]\u001b[0m\u001b[0;34m[\u001b[0m\u001b[0mevent_index\u001b[0m\u001b[0;34m]\u001b[0m\u001b[0;34m\u001b[0m\u001b[0;34m\u001b[0m\u001b[0m\n\u001b[0m",
      "\u001b[0;31mIndexError\u001b[0m: index 6 is out of bounds for axis 0 with size 6"
     ]
    }
   ],
   "source": [
    "events['Text'][event_index]"
   ]
  },
  {
   "cell_type": "code",
   "execution_count": 396,
   "metadata": {},
   "outputs": [],
   "source": [
    "event_index += 1"
   ]
  },
  {
   "cell_type": "code",
   "execution_count": 422,
   "metadata": {},
   "outputs": [
    {
     "data": {
      "text/plain": [
       "6"
      ]
     },
     "execution_count": 422,
     "metadata": {},
     "output_type": "execute_result"
    }
   ],
   "source": [
    "event_index"
   ]
  },
  {
   "cell_type": "code",
   "execution_count": 306,
   "metadata": {},
   "outputs": [],
   "source": [
    "i=15000\n",
    "events = np.concatenate((events, np.array([(i,'{:%Y-%m-%d}'.format(filtered_mars_data2d[i,1].utc_datetime()),\"Mars begins retrograde\")], dtype=dtype)), axis=0)"
   ]
  },
  {
   "cell_type": "code",
   "execution_count": 326,
   "metadata": {},
   "outputs": [
    {
     "name": "stdout",
     "output_type": "stream",
     "text": [
      "Mars begins retrograde\n",
      "2020-09-09 frame #1773\n",
      "Mars at opposition\n",
      "2020-10-12 frame #2554\n",
      "Mars ends retrograde\n",
      "2020-11-14 frame #3336\n",
      "Mars begins retrograde\n",
      "2022-10-30 frame #20507\n",
      "Mars at opposition\n",
      "2022-12-06 frame #21399\n",
      "Mars ends retrograde\n",
      "2023-01-12 frame #22291\n"
     ]
    }
   ],
   "source": [
    "dtype = [('Frame', np.int32), ('Date', (np.str_, 10)), ('Text', (np.str_, 25))]\n",
    "events = np.array([], dtype=dtype)\n",
    "\n",
    "opposition = 0\n",
    "for i in mars_motion_chg:\n",
    "    if not mars_prograde[i]:\n",
    "        opposition = i\n",
    "        events = np.concatenate((events, np.array([(i,'{:%Y-%m-%d}'.format(filtered_mars_data2d[i,1].utc_datetime()),\"Mars begins retrograde\")], dtype=dtype)), axis=0)\n",
    "        print(      'Mars begins retrograde\\n{:%Y-%m-%d} frame #{}'.format(filtered_mars_data2d[i,1].utc_datetime(), i))\n",
    "    else:\n",
    "        if opposition != 0:\n",
    "            opposition = (opposition + i) // 2 # integer floor division\n",
    "            events = np.concatenate((events, np.array([(opposition,'{:%Y-%m-%d}'.format(filtered_mars_data2d[opposition,1].utc_datetime()),\"Mars at opposition\")], dtype=dtype)), axis=0)\n",
    "            print(          'Mars at opposition\\n{:%Y-%m-%d} frame #{}'.format(filtered_mars_data2d[opposition,1].utc_datetime(), opposition))\n",
    "        events = np.concatenate((events, np.array([(i,'{:%Y-%m-%d}'.format(filtered_mars_data2d[i,1].utc_datetime()),\"Mars ends retrograde\")], dtype=dtype)), axis=0)\n",
    "        print(        'Mars ends retrograde\\n{:%Y-%m-%d} frame #{}'.format(filtered_mars_data2d[i,1].utc_datetime(), i))\n",
    "        \n",
    "# add events for Jupiter, Saturn, etc. before sorting\n",
    "\n",
    "events = np.sort(events, order='Frame')"
   ]
  },
  {
   "cell_type": "code",
   "execution_count": 327,
   "metadata": {},
   "outputs": [],
   "source": [
    "events = np.sort(events, order='Frame')"
   ]
  },
  {
   "cell_type": "code",
   "execution_count": 328,
   "metadata": {},
   "outputs": [],
   "source": [
    "# change the above block from printing text to building a structured array"
   ]
  },
  {
   "cell_type": "code",
   "execution_count": 329,
   "metadata": {},
   "outputs": [
    {
     "data": {
      "text/plain": [
       "array([( 1773, '2020-09-09', 'Mars begins retrograde'),\n",
       "       ( 2554, '2020-10-12', 'Mars at opposition'),\n",
       "       ( 3336, '2020-11-14', 'Mars ends retrograde'),\n",
       "       (20507, '2022-10-30', 'Mars begins retrograde'),\n",
       "       (21399, '2022-12-06', 'Mars at opposition'),\n",
       "       (22291, '2023-01-12', 'Mars ends retrograde')],\n",
       "      dtype=[('Frame', '<i4'), ('Date', '<U10'), ('Text', '<U25')])"
      ]
     },
     "execution_count": 329,
     "metadata": {},
     "output_type": "execute_result"
    }
   ],
   "source": [
    "events"
   ]
  },
  {
   "cell_type": "code",
   "execution_count": 333,
   "metadata": {},
   "outputs": [
    {
     "data": {
      "text/plain": [
       "array([( 1750, '2020-09-09', 'Mars begins retrograde'),\n",
       "       ( 2531, '2020-10-12', 'Mars at opposition'),\n",
       "       ( 3313, '2020-11-14', 'Mars ends retrograde'),\n",
       "       (20484, '2022-10-30', 'Mars begins retrograde'),\n",
       "       (21376, '2022-12-06', 'Mars at opposition'),\n",
       "       (22268, '2023-01-12', 'Mars ends retrograde')],\n",
       "      dtype=[('Frame', '<i4'), ('Date', '<U10'), ('Text', '<U25')])"
      ]
     },
     "execution_count": 333,
     "metadata": {},
     "output_type": "execute_result"
    }
   ],
   "source": [
    "events"
   ]
  },
  {
   "cell_type": "code",
   "execution_count": null,
   "metadata": {},
   "outputs": [],
   "source": []
  },
  {
   "cell_type": "code",
   "execution_count": null,
   "metadata": {},
   "outputs": [],
   "source": []
  },
  {
   "cell_type": "code",
   "execution_count": 93,
   "metadata": {},
   "outputs": [],
   "source": [
    "numpy_arr = numpy_arr[numpy_arr[:,0].argsort()]"
   ]
  },
  {
   "cell_type": "code",
   "execution_count": 82,
   "metadata": {},
   "outputs": [],
   "source": [
    "ind = np.argsort(numpy_arr, axis=0)"
   ]
  },
  {
   "cell_type": "code",
   "execution_count": 84,
   "metadata": {},
   "outputs": [],
   "source": [
    "np.argsort?"
   ]
  },
  {
   "cell_type": "code",
   "execution_count": 94,
   "metadata": {},
   "outputs": [
    {
     "data": {
      "text/plain": [
       "array([['10336', '2831', 'Mars ends retrograde'],\n",
       "       ['1773', '2007', 'Mars begins retrograde'],\n",
       "       ['2554', '2429', 'Mars at opposition']], dtype='<U22')"
      ]
     },
     "execution_count": 94,
     "metadata": {},
     "output_type": "execute_result"
    }
   ],
   "source": [
    "numpy_arr"
   ]
  },
  {
   "cell_type": "code",
   "execution_count": 95,
   "metadata": {},
   "outputs": [],
   "source": [
    "dtype = [('name', 'S10'), ('height', float), ('age', int)]"
   ]
  },
  {
   "cell_type": "code",
   "execution_count": 96,
   "metadata": {},
   "outputs": [],
   "source": [
    "values = [('Arthur', 1.8, 41), ('Lancelot', 1.9, 38),\n",
    "          ('Galahad', 1.7, 38)]"
   ]
  },
  {
   "cell_type": "code",
   "execution_count": 97,
   "metadata": {},
   "outputs": [],
   "source": [
    "a = np.array(values, dtype=dtype)       # create a structured array"
   ]
  },
  {
   "cell_type": "code",
   "execution_count": 100,
   "metadata": {},
   "outputs": [],
   "source": [
    "sorted_a = np.sort(a, order='height')"
   ]
  },
  {
   "cell_type": "code",
   "execution_count": 106,
   "metadata": {},
   "outputs": [
    {
     "data": {
      "text/plain": [
       "(b'Galahad', 1.7, 38)"
      ]
     },
     "execution_count": 106,
     "metadata": {},
     "output_type": "execute_result"
    }
   ],
   "source": [
    "sorted_a[:][0]"
   ]
  },
  {
   "cell_type": "code",
   "execution_count": 110,
   "metadata": {},
   "outputs": [],
   "source": [
    "a = np.array([(\"a\", 2), (\"c\", 1)], dtype=[(\"x\", 'S1'), (\"y\", int)])"
   ]
  },
  {
   "cell_type": "code",
   "execution_count": 111,
   "metadata": {},
   "outputs": [],
   "source": [
    "a.sort(order=\"y\")"
   ]
  },
  {
   "cell_type": "code",
   "execution_count": 112,
   "metadata": {},
   "outputs": [
    {
     "data": {
      "text/plain": [
       "array([(b'c', 1), (b'a', 2)], dtype=[('x', 'S1'), ('y', '<i8')])"
      ]
     },
     "execution_count": 112,
     "metadata": {},
     "output_type": "execute_result"
    }
   ],
   "source": [
    "a"
   ]
  },
  {
   "cell_type": "code",
   "execution_count": null,
   "metadata": {},
   "outputs": [],
   "source": []
  },
  {
   "cell_type": "code",
   "execution_count": null,
   "metadata": {},
   "outputs": [],
   "source": []
  },
  {
   "cell_type": "code",
   "execution_count": 27,
   "metadata": {},
   "outputs": [
    {
     "data": {
      "text/plain": [
       "numpy.bool_"
      ]
     },
     "execution_count": 27,
     "metadata": {},
     "output_type": "execute_result"
    }
   ],
   "source": [
    "type(mars_prograde[0])"
   ]
  },
  {
   "cell_type": "code",
   "execution_count": 28,
   "metadata": {},
   "outputs": [
    {
     "data": {
      "text/plain": [
       "array([ 1797,  1867, 19038, 19110])"
      ]
     },
     "execution_count": 28,
     "metadata": {},
     "output_type": "execute_result"
    }
   ],
   "source": [
    "mars_motion_chg"
   ]
  },
  {
   "cell_type": "code",
   "execution_count": 29,
   "metadata": {},
   "outputs": [
    {
     "data": {
      "text/plain": [
       "array([ True,  True,  True, ...,  True,  True,  True])"
      ]
     },
     "execution_count": 29,
     "metadata": {},
     "output_type": "execute_result"
    }
   ],
   "source": [
    "mars_prograde"
   ]
  },
  {
   "cell_type": "code",
   "execution_count": 56,
   "metadata": {},
   "outputs": [
    {
     "data": {
      "text/plain": [
       "27863"
      ]
     },
     "execution_count": 56,
     "metadata": {},
     "output_type": "execute_result"
    }
   ],
   "source": [
    "len(mars_eclondel)"
   ]
  },
  {
   "cell_type": "code",
   "execution_count": 57,
   "metadata": {},
   "outputs": [
    {
     "data": {
      "text/plain": [
       "27864"
      ]
     },
     "execution_count": 57,
     "metadata": {},
     "output_type": "execute_result"
    }
   ],
   "source": [
    "len(t)"
   ]
  },
  {
   "cell_type": "code",
   "execution_count": 60,
   "metadata": {},
   "outputs": [],
   "source": [
    "data2d = np.stack((mars_eclondel, t[:-1]), axis=1)"
   ]
  },
  {
   "cell_type": "code",
   "execution_count": 86,
   "metadata": {},
   "outputs": [
    {
     "data": {
      "text/plain": [
       "<Time tt=2459069.1674674074>"
      ]
     },
     "execution_count": 86,
     "metadata": {},
     "output_type": "execute_result"
    }
   ],
   "source": [
    "data2d[1000,1]"
   ]
  },
  {
   "cell_type": "code",
   "execution_count": 77,
   "metadata": {},
   "outputs": [],
   "source": [
    "data2d = np.stack((mars_eclondel, t[:-1]), axis=1)\n",
    "\n",
    "def reject_outliers(data, m=2.):\n",
    "    d = np.abs(data[:,0] - np.median(data[:,0]))\n",
    "    mdev = np.median(d)\n",
    "    s = d/mdev if mdev else 0.\n",
    "    return data[s<m]\n",
    "\n",
    "filtered_mars_eclondel = reject_outliers(data2d,200.)"
   ]
  },
  {
   "cell_type": "code",
   "execution_count": 78,
   "metadata": {},
   "outputs": [
    {
     "data": {
      "text/plain": [
       "27863"
      ]
     },
     "execution_count": 78,
     "metadata": {},
     "output_type": "execute_result"
    }
   ],
   "source": [
    "len(mars_eclondel)"
   ]
  },
  {
   "cell_type": "code",
   "execution_count": 79,
   "metadata": {},
   "outputs": [
    {
     "data": {
      "text/plain": [
       "27861"
      ]
     },
     "execution_count": 79,
     "metadata": {},
     "output_type": "execute_result"
    }
   ],
   "source": [
    "len(filtered_mars_eclondel)"
   ]
  },
  {
   "cell_type": "code",
   "execution_count": 1,
   "metadata": {},
   "outputs": [
    {
     "ename": "NameError",
     "evalue": "name 'filtered_mars_eclondel' is not defined",
     "output_type": "error",
     "traceback": [
      "\u001b[0;31m---------------------------------------------------------------------------\u001b[0m",
      "\u001b[0;31mNameError\u001b[0m                                 Traceback (most recent call last)",
      "\u001b[0;32m<ipython-input-1-9bbdb30c65af>\u001b[0m in \u001b[0;36m<module>\u001b[0;34m\u001b[0m\n\u001b[0;32m----> 1\u001b[0;31m \u001b[0mlist\u001b[0m\u001b[0;34m(\u001b[0m\u001b[0mfiltered_mars_eclondel\u001b[0m\u001b[0;34m[\u001b[0m\u001b[0;34m:\u001b[0m\u001b[0;34m,\u001b[0m\u001b[0;36m1\u001b[0m\u001b[0;34m]\u001b[0m\u001b[0;34m)\u001b[0m\u001b[0;34m\u001b[0m\u001b[0;34m\u001b[0m\u001b[0m\n\u001b[0m",
      "\u001b[0;31mNameError\u001b[0m: name 'filtered_mars_eclondel' is not defined"
     ]
    }
   ],
   "source": [
    "list(filtered_mars_eclondel[:,1])"
   ]
  },
  {
   "cell_type": "code",
   "execution_count": 36,
   "metadata": {},
   "outputs": [
    {
     "data": {
      "text/plain": [
       "array([0.00044319, 0.0004431 , 0.00044302, ..., 0.00046798, 0.000468  ,\n",
       "       0.00046803])"
      ]
     },
     "execution_count": 36,
     "metadata": {},
     "output_type": "execute_result"
    }
   ],
   "source": [
    "filtered_mars_eclondel"
   ]
  },
  {
   "cell_type": "code",
   "execution_count": 37,
   "metadata": {},
   "outputs": [
    {
     "name": "stdout",
     "output_type": "stream",
     "text": [
      "Mars begins retrograde\n",
      "2020-09-09 21:00\n",
      "Mars ends retrograde\n",
      "2020-09-12 19:00\n",
      "Mars begins retrograde\n",
      "2022-08-29 06:00\n",
      "Mars ends retrograde\n",
      "2022-09-01 06:00\n"
     ]
    }
   ],
   "source": [
    "for i in mars_motion_chg:\n",
    "    if not mars_prograde[i]:\n",
    "        print('Mars begins retrograde\\n{:%Y-%m-%d %H:%M}'.format(t[i].utc_datetime()))\n",
    "    else:\n",
    "        print('Mars ends retrograde\\n{:%Y-%m-%d %H:%M}'.format(t[i].utc_datetime()))"
   ]
  },
  {
   "cell_type": "code",
   "execution_count": null,
   "metadata": {},
   "outputs": [],
   "source": []
  }
 ],
 "metadata": {
  "kernelspec": {
   "display_name": "Python 3",
   "language": "python",
   "name": "python3"
  },
  "language_info": {
   "codemirror_mode": {
    "name": "ipython",
    "version": 3
   },
   "file_extension": ".py",
   "mimetype": "text/x-python",
   "name": "python",
   "nbconvert_exporter": "python",
   "pygments_lexer": "ipython3",
   "version": "3.7.7"
  }
 },
 "nbformat": 4,
 "nbformat_minor": 2
}
