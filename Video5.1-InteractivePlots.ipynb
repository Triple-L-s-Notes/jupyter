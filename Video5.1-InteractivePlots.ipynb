{
 "cells": [
  {
   "cell_type": "code",
   "execution_count": 1,
   "metadata": {},
   "outputs": [],
   "source": [
    "import numpy as np\n",
    "import matplotlib as mpl\n",
    "import matplotlib.pyplot as plt\n",
    "%matplotlib inline\n",
    "# set up figure size and DPI for screen demo\n",
    "# plt.rcParams['figure.figsize'] = (9, 7)\n",
    "plt.rcParams['figure.dpi'] = 150\n",
    "from ipywidgets import interact, interactive, fixed, interact_manual\n",
    "import ipywidgets as widgets"
   ]
  },
  {
   "cell_type": "code",
   "execution_count": 2,
   "metadata": {},
   "outputs": [
    {
     "data": {
      "application/vnd.jupyter.widget-view+json": {
       "model_id": "2e2b973f28594a798a973911b4be9b20",
       "version_major": 2,
       "version_minor": 0
      },
      "text/plain": [
       "interactive(children=(FloatSlider(value=0.0, description='x', max=3.0, min=-3.0, step=0.5), Output()), _dom_cl…"
      ]
     },
     "metadata": {},
     "output_type": "display_data"
    },
    {
     "data": {
      "text/plain": [
       "<function __main__.f(x)>"
      ]
     },
     "execution_count": 2,
     "metadata": {},
     "output_type": "execute_result"
    }
   ],
   "source": [
    "def f(x):\n",
    "    plt.plot(np.arange(0, 10), x*np.arange(0, 10))\n",
    "    plt.ylim(-30, 30)\n",
    "# interact(f, x=1) # if you give a starting integer, interact automatically makes the slider take integers with 2 steps above and 2 step below\n",
    "interact(f, x=(-3, 3, 0.5)) # starting and ending values plus step size"
   ]
  },
  {
   "cell_type": "code",
   "execution_count": 3,
   "metadata": {},
   "outputs": [
    {
     "data": {
      "application/vnd.jupyter.widget-view+json": {
       "model_id": "e397bf404abf429586c646852a68c1dd",
       "version_major": 2,
       "version_minor": 0
      },
      "text/plain": [
       "interactive(children=(Checkbox(value=True, description='x'), Output()), _dom_classes=('widget-interact',))"
      ]
     },
     "metadata": {},
     "output_type": "display_data"
    }
   ],
   "source": [
    "# automatically choose appropriate widget\n",
    "rands = np.random.rand(100)\n",
    "# optionally use interact as decorator:...\n",
    "@interact(x=True)\n",
    "def g(x):\n",
    "    if x:\n",
    "        plt.plot(rands, 'b')\n",
    "    else:\n",
    "        plt.plot(rands, 'r')\n",
    "# ...or in code:\n",
    "# interact(g, x=True) # automatically gives a tick box for a boolean"
   ]
  },
  {
   "cell_type": "code",
   "execution_count": 4,
   "metadata": {},
   "outputs": [
    {
     "data": {
      "application/vnd.jupyter.widget-view+json": {
       "model_id": "c6b67142533149f89bdbc2f3ad9ec0b8",
       "version_major": 2,
       "version_minor": 0
      },
      "text/plain": [
       "interactive(children=(Text(value='Title of plot', description='x'), Output()), _dom_classes=('widget-interact'…"
      ]
     },
     "metadata": {},
     "output_type": "display_data"
    }
   ],
   "source": [
    "# interact as a decorator\n",
    "@interact(x='Title of plot')\n",
    "def h(x):\n",
    "    plt.title(x)"
   ]
  },
  {
   "cell_type": "code",
   "execution_count": 6,
   "metadata": {},
   "outputs": [
    {
     "data": {
      "application/vnd.jupyter.widget-view+json": {
       "model_id": "d9021275f94545239e5c6c5ab96e6649",
       "version_major": 2,
       "version_minor": 0
      },
      "text/plain": [
       "interactive(children=(FloatSlider(value=1.0, description='a', max=3.0, min=-1.0, step=0.2), FloatSlider(value=…"
      ]
     },
     "metadata": {},
     "output_type": "display_data"
    }
   ],
   "source": [
    "# multiple widgets\n",
    "@interact(a=(-1,3,0.2), b=())\n",
    "def i(a, b):\n",
    "    plt.plot(np.arange(0, 100), a*np.power(np.arange(0, 100), b))\n",
    "    plt.title('Power Law: $x=ay^b$')\n",
    "    plt.ylim(0, 1e6)"
   ]
  },
  {
   "cell_type": "code",
   "execution_count": 8,
   "metadata": {},
   "outputs": [
    {
     "data": {
      "application/vnd.jupyter.widget-view+json": {
       "model_id": "4bcaf364f06d437dbedced1a3eef5c13",
       "version_major": 2,
       "version_minor": 0
      },
      "text/plain": [
       "interactive(children=(FloatSlider(value=1.0, description='a', max=3.0, min=-1.0, step=0.2), Output()), _dom_cl…"
      ]
     },
     "metadata": {},
     "output_type": "display_data"
    }
   ],
   "source": [
    "# fixed value (a kind of build-in lambda function)\n",
    "@interact(a=(-1,3,0.2), b=fixed(2))\n",
    "def i(a, b):\n",
    "    plt.plot(np.arange(0, 100), a*np.power(np.arange(0, 100), b))\n",
    "    plt.title('Power Law: $x=ay^b$')\n",
    "    plt.ylim(0, 1e6)"
   ]
  },
  {
   "cell_type": "code",
   "execution_count": 12,
   "metadata": {},
   "outputs": [
    {
     "data": {
      "application/vnd.jupyter.widget-view+json": {
       "model_id": "2f9bad3be57f4822ae3f71796f86ee06",
       "version_major": 2,
       "version_minor": 0
      },
      "text/plain": [
       "interactive(children=(FloatSlider(value=1.0, description='a', max=3.0, min=-1.0, step=0.2), FloatSlider(value=…"
      ]
     },
     "metadata": {},
     "output_type": "display_data"
    },
    {
     "data": {
      "text/plain": [
       "<function __main__.j(a, b, color)>"
      ]
     },
     "execution_count": 12,
     "metadata": {},
     "output_type": "execute_result"
    }
   ],
   "source": [
    "# dropdowns\n",
    "def j(a, b, color):\n",
    "    plt.plot(np.arange(0, 100), a*np.power(np.arange(0, 100), b), c=color)\n",
    "    plt.title('Power Law: $x=ay^b$')\n",
    "    plt.ylim(0, 1e6)\n",
    "colors=['red', 'green', 'blue']\n",
    "interact(j, a=(-1,3,0.2), b=(0,5,0.2), color=colors)"
   ]
  },
  {
   "cell_type": "code",
   "execution_count": 14,
   "metadata": {},
   "outputs": [
    {
     "data": {
      "application/vnd.jupyter.widget-view+json": {
       "model_id": "1b650e64db954888af106c3e071d1251",
       "version_major": 2,
       "version_minor": 0
      },
      "text/plain": [
       "interactive(children=(Dropdown(description='a', options={'one': 1, 'two': 2, 'three': 3}, value=1), Dropdown(d…"
      ]
     },
     "metadata": {},
     "output_type": "display_data"
    },
    {
     "data": {
      "text/plain": [
       "<function __main__.j(a, b)>"
      ]
     },
     "execution_count": 14,
     "metadata": {},
     "output_type": "execute_result"
    }
   ],
   "source": [
    "# dropdowns with dicts\n",
    "def j(a, b):\n",
    "    plt.plot(np.arange(0, 100), a*np.power(np.arange(0, 100), b))\n",
    "    plt.title('Power Law: $x=ay^b$')\n",
    "#     plt.ylim(0, 1e6)\n",
    "powers={'one':1, 'two':2, 'three':3}\n",
    "interact(j, a=powers, b=powers)"
   ]
  },
  {
   "cell_type": "code",
   "execution_count": null,
   "metadata": {},
   "outputs": [],
   "source": []
  }
 ],
 "metadata": {
  "kernelspec": {
   "display_name": "Python 3",
   "language": "python",
   "name": "python3"
  },
  "language_info": {
   "codemirror_mode": {
    "name": "ipython",
    "version": 3
   },
   "file_extension": ".py",
   "mimetype": "text/x-python",
   "name": "python",
   "nbconvert_exporter": "python",
   "pygments_lexer": "ipython3",
   "version": "3.7.4"
  }
 },
 "nbformat": 4,
 "nbformat_minor": 2
}
